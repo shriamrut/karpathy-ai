{
 "cells": [
  {
   "cell_type": "code",
   "execution_count": 37,
   "id": "6105dfd8-1e71-488c-ba27-71b1b4e16792",
   "metadata": {},
   "outputs": [],
   "source": [
    "import torch\n",
    "import torch.nn as nn\n",
    "import torch.nn.functional as F"
   ]
  },
  {
   "cell_type": "code",
   "execution_count": 2,
   "id": "28978317-9f2c-46bd-b0b7-7ef7e3b6274f",
   "metadata": {},
   "outputs": [
    {
     "name": "stdout",
     "output_type": "stream",
     "text": [
      "2.2.0.post100\n"
     ]
    }
   ],
   "source": [
    "print(torch.__version__)"
   ]
  },
  {
   "cell_type": "code",
   "execution_count": 44,
   "id": "70017391-7642-4e58-b5d3-32c80117a5a4",
   "metadata": {},
   "outputs": [],
   "source": [
    "class LogisticRegress(nn.Module):\n",
    "    def __init__(self, input_dim, output_dim):\n",
    "        super().__init__()\n",
    "        self.linear = nn.Linear(input_dim, output_dim)\n",
    "        self.sigmoid = nn.Sigmoid()\n",
    "        \n",
    "    def forward(self, x):\n",
    "        out = self.linear(x)\n",
    "        return self.sigmoid(out)"
   ]
  },
  {
   "cell_type": "code",
   "execution_count": 54,
   "id": "5ec7169e-c515-445a-a9df-4b1cc50e0083",
   "metadata": {},
   "outputs": [],
   "source": [
    "model = LogisticRegress(2,1)"
   ]
  },
  {
   "cell_type": "code",
   "execution_count": 91,
   "id": "5dbc58cf-7813-447e-8129-f25abbba9172",
   "metadata": {},
   "outputs": [],
   "source": [
    "ITERATIONS = 100\n",
    "LR = 0.5"
   ]
  },
  {
   "cell_type": "code",
   "execution_count": 97,
   "id": "981ce9b0-b1f0-4b53-a4f3-fc67ec3d688f",
   "metadata": {},
   "outputs": [],
   "source": [
    "x = torch.tensor([[0,0],[0,1],[1,0], [1,1]]).type(torch.float32)\n",
    "y = torch.tensor([[0],[1],[1],[1]]).type(torch.float32)\n",
    "\n",
    "for p in model.parameters():\n",
    "    p.requires_grad = True\n",
    "\n",
    "costs = []\n",
    "sgd = torch.optim.SGD(model.parameters(), lr=LR)\n",
    "for i in range(ITERATIONS):\n",
    "    pred = model(x)\n",
    "    cost = F.binary_cross_entropy(pred, y)\n",
    "    costs.append(cost.item())\n",
    "    model.zero_grad(set_to_none=True)\n",
    "    cost.backward()\n",
    "    '''for p in model.parameters():\n",
    "        p.data += -LR * p.grad\n",
    "    Use optimizer update way instead of manually defining the update\n",
    "    '''\n",
    "    sgd.step()"
   ]
  },
  {
   "cell_type": "code",
   "execution_count": 98,
   "id": "6171c1db-0c50-40bf-853e-f4a878bb7849",
   "metadata": {},
   "outputs": [
    {
     "name": "stdout",
     "output_type": "stream",
     "text": [
      "Final cost:  0.07105867564678192\n"
     ]
    }
   ],
   "source": [
    "print(\"Final cost: \", costs[-1])"
   ]
  },
  {
   "cell_type": "code",
   "execution_count": 99,
   "id": "9b60f21f-7f79-4056-824f-a66f4c0a3434",
   "metadata": {},
   "outputs": [
    {
     "name": "stdout",
     "output_type": "stream",
     "text": [
      "tensor([[0.1494],\n",
      "        [0.9408],\n",
      "        [0.9421],\n",
      "        [0.9993]], grad_fn=<SigmoidBackward0>)\n"
     ]
    }
   ],
   "source": [
    "final_prediction = model(x)\n",
    "print(final_prediction)"
   ]
  },
  {
   "cell_type": "code",
   "execution_count": null,
   "id": "3bbad238-1e06-41d8-9d4a-999813365eed",
   "metadata": {},
   "outputs": [],
   "source": []
  }
 ],
 "metadata": {
  "kernelspec": {
   "display_name": "Python 3 (ipykernel)",
   "language": "python",
   "name": "python3"
  },
  "language_info": {
   "codemirror_mode": {
    "name": "ipython",
    "version": 3
   },
   "file_extension": ".py",
   "mimetype": "text/x-python",
   "name": "python",
   "nbconvert_exporter": "python",
   "pygments_lexer": "ipython3",
   "version": "3.11.8"
  }
 },
 "nbformat": 4,
 "nbformat_minor": 5
}
