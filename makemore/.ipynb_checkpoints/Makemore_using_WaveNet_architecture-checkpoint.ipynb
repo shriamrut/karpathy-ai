{
 "cells": [
  {
   "cell_type": "code",
   "execution_count": 1,
   "id": "edd9adec",
   "metadata": {
    "id": "edd9adec"
   },
   "outputs": [],
   "source": [
    "import torch\n",
    "import torch.nn.functional as F\n",
    "import matplotlib.pyplot as plt \n",
    "%matplotlib inline"
   ]
  },
  {
   "cell_type": "code",
   "execution_count": 2,
   "id": "70e4644b",
   "metadata": {
    "colab": {
     "base_uri": "https://localhost:8080/",
     "height": 201
    },
    "id": "70e4644b",
    "outputId": "17d7df4e-63d6-41f0-ff57-61821bf234d3"
   },
   "outputs": [
    {
     "data": {
      "text/plain": [
       "['emma', 'olivia', 'ava', 'isabella', 'sophia', 'charlotte', 'mia', 'amelia']"
      ]
     },
     "execution_count": 2,
     "metadata": {},
     "output_type": "execute_result"
    }
   ],
   "source": [
    "# read the words from the input file\n",
    "words = open(\"names.txt\", \"r\").read().splitlines()\n",
    "words[:8]"
   ]
  },
  {
   "cell_type": "code",
   "execution_count": 3,
   "id": "b19ac5cb",
   "metadata": {
    "id": "b19ac5cb"
   },
   "outputs": [
    {
     "name": "stdout",
     "output_type": "stream",
     "text": [
      "{1: 'a', 2: 'b', 3: 'c', 4: 'd', 5: 'e', 6: 'f', 7: 'g', 8: 'h', 9: 'i', 10: 'j', 11: 'k', 12: 'l', 13: 'm', 14: 'n', 15: 'o', 16: 'p', 17: 'q', 18: 'r', 19: 's', 20: 't', 21: 'u', 22: 'v', 23: 'w', 24: 'x', 25: 'y', 26: 'z', 0: '.'}\n",
      "27\n"
     ]
    }
   ],
   "source": [
    "# building the vocabulary\n",
    "chars = sorted(list(set(''.join(words))))\n",
    "stoi = {s: i+1 for i,s in enumerate(chars)}\n",
    "stoi['.'] = 0\n",
    "itos = {i:s for s, i in stoi.items()}\n",
    "vocab_size = len(itos)\n",
    "print(itos)\n",
    "print(vocab_size)"
   ]
  },
  {
   "cell_type": "code",
   "execution_count": 4,
   "id": "dc0ad664",
   "metadata": {
    "id": "dc0ad664"
   },
   "outputs": [],
   "source": [
    "# shuffle up the words\n",
    "import random\n",
    "random.seed(42)\n",
    "random.shuffle(words)"
   ]
  },
  {
   "cell_type": "code",
   "execution_count": 5,
   "id": "faebcd82",
   "metadata": {
    "id": "faebcd82"
   },
   "outputs": [],
   "source": [
    "block_size = 8\n",
    "# building the data set based on the block size\n",
    "def build_dataset(words):\n",
    "    X,Y = [],[]\n",
    "    for word in words:\n",
    "        #print(word)\n",
    "        context = [0] * block_size\n",
    "        for ch in word + '.':\n",
    "            ix = stoi[ch]\n",
    "            X.append(context)\n",
    "            Y.append(ix)\n",
    "            #print(''.join(itos[c] for c in context), \"-->\", ch)\n",
    "            context = context[1:] + [ix]\n",
    "    X = torch.tensor(X)\n",
    "    Y = torch.tensor(Y)\n",
    "    print(X.shape,X.dtype, Y.shape, Y.dtype)\n",
    "    return X,Y"
   ]
  },
  {
   "cell_type": "code",
   "execution_count": 6,
   "id": "22199618",
   "metadata": {
    "id": "22199618"
   },
   "outputs": [
    {
     "name": "stdout",
     "output_type": "stream",
     "text": [
      "torch.Size([182580, 8]) torch.int64 torch.Size([182580]) torch.int64\n",
      "torch.Size([22767, 8]) torch.int64 torch.Size([22767]) torch.int64\n",
      "torch.Size([22799, 8]) torch.int64 torch.Size([22799]) torch.int64\n"
     ]
    }
   ],
   "source": [
    "import random\n",
    "random.seed(42)\n",
    "random.shuffle(words)\n",
    "n1 = int(0.8 * len(words))\n",
    "n2 = int(0.9 * len(words))\n",
    "# train split, dev/validation split, test split\n",
    "# 80 %, 10%, 10%\n",
    "\n",
    "Xtr,Ytr = build_dataset(words[:n1])\n",
    "Xdev,Ydev = build_dataset(words[n1:n2])\n",
    "Xtest, Ytest = build_dataset(words[n2:])"
   ]
  },
  {
   "cell_type": "code",
   "execution_count": 7,
   "id": "64a26fac",
   "metadata": {
    "id": "64a26fac"
   },
   "outputs": [
    {
     "name": "stdout",
     "output_type": "stream",
     "text": [
      "........ --> e\n",
      ".......e --> b\n",
      "......eb --> r\n",
      ".....ebr --> i\n",
      "....ebri --> m\n",
      "...ebrim --> a\n",
      "..ebrima --> .\n",
      "........ --> h\n",
      ".......h --> i\n",
      "......hi --> l\n",
      ".....hil --> t\n",
      "....hilt --> o\n",
      "...hilto --> n\n",
      "..hilton --> .\n",
      "........ --> j\n",
      ".......j --> h\n",
      "......jh --> e\n",
      ".....jhe --> n\n",
      "....jhen --> e\n",
      "...jhene --> .\n"
     ]
    }
   ],
   "source": [
    "for x,y in zip(Xtr[:20], Ytr[:20]):\n",
    "  print(''.join(itos[ix.item()] for ix in x), '-->', itos[y.item()])"
   ]
  },
  {
   "cell_type": "code",
   "execution_count": 8,
   "id": "640c5b22",
   "metadata": {
    "id": "640c5b22"
   },
   "outputs": [],
   "source": [
    "class Linear:\n",
    "    def __init__(self, fan_in, fan_out, bias=True):\n",
    "        self.weight = torch.randn((fan_in, fan_out)) / fan_in**0.5\n",
    "        self.bias = torch.zeros((fan_out)) if bias else None\n",
    "    def __call__(self, x):\n",
    "        self.out = x @ self.weight\n",
    "        if self.bias is not None:\n",
    "            self.out += self.bias\n",
    "        return self.out\n",
    "    def parameters(self):\n",
    "        return [self.weight] + ([] if self.bias is None else [self.bias])\n",
    "\n",
    "class BatchNorm1d:\n",
    "    def __init__(self, dim, eps=1e-5, momentum = 0.1):\n",
    "        self.eps = eps\n",
    "        self.momentum = momentum\n",
    "        self.training = True\n",
    "        #parameters (trained with backprop)\n",
    "        self.gamma = torch.ones(dim)\n",
    "        self.beta = torch.zeros(dim)\n",
    "        \n",
    "        # buffers (trained with momentum update)\n",
    "        self.running_mean = torch.zeros(dim)\n",
    "        self.running_var = torch.ones(dim)\n",
    "        \n",
    "    def __call__(self, x):\n",
    "        if self.training:\n",
    "          if x.ndim == 2:\n",
    "            dim = 0 \n",
    "          elif x.ndim == 3:\n",
    "            dim = (0, 1)\n",
    "          xmean = x.mean(dim, keepdim = True)\n",
    "          xvar = x.var(dim, keepdim = True)\n",
    "        else :\n",
    "          xmean = self.running_mean\n",
    "          xvar = self.running_var\n",
    "        xhat = (x - xmean) / torch.sqrt(xvar + self.eps)\n",
    "        self.out = self.gamma * xhat + self.beta\n",
    "        if self.training:\n",
    "            with torch.no_grad():\n",
    "                self.running_mean = (1 - self.momentum) * self.running_mean + self.momentum * xmean\n",
    "                self.running_var = (1 - self.momentum) * self.running_var + self.momentum * xvar\n",
    "        return self.out\n",
    "    def parameters(self):\n",
    "        return [self.gamma, self.beta]\n",
    "    \n",
    "class Embedding:\n",
    "    \n",
    "    def __init__(self, num_embedding, embedding_dim):\n",
    "        self.weights = torch.randn((num_embedding, embedding_dim))\n",
    "        \n",
    "    def __call__(self, IX):\n",
    "        self.out = self.weights[IX]\n",
    "        return self.out\n",
    "    \n",
    "    def parameters(self):\n",
    "        return [self.weights]\n",
    "\n",
    "class FlattenConsecutive:\n",
    "    def __init__(self, n):\n",
    "        self.n = n\n",
    "    \n",
    "    def __call__(self, x):\n",
    "        B,T,C = x.shape\n",
    "        x = x.view(B, T//self.n, self.n * C)\n",
    "        if x.shape[1] == 1:\n",
    "            x = x.squeeze(1)\n",
    "        self.out = x\n",
    "        return self.out\n",
    "    \n",
    "    def parameters(self):\n",
    "        return []\n",
    "    \n",
    "class Flatten:\n",
    "    def __call__(self, x):\n",
    "        self.out = x.view(x.shape[0], -1)\n",
    "        return self.out\n",
    "    def parameters(self):\n",
    "        return []\n",
    "\n",
    "class Tanh:\n",
    "    def __call__(self, x):\n",
    "        self.out = torch.tanh(x)\n",
    "        return self.out\n",
    "\n",
    "    def parameters(self):\n",
    "        return []\n",
    "    \n",
    "class Sequential:\n",
    "    def __init__(self, layers):\n",
    "        self.layers = layers\n",
    "        \n",
    "    def __call__(self, x):\n",
    "        for layer in self.layers:\n",
    "            x = layer(x)\n",
    "        self.out = x\n",
    "        return self.out\n",
    "    \n",
    "    def parameters(self):\n",
    "        return [p for layer in self.layers for p in layer.parameters()]"
   ]
  },
  {
   "cell_type": "code",
   "execution_count": 9,
   "id": "2889ce18",
   "metadata": {
    "id": "2889ce18"
   },
   "outputs": [],
   "source": [
    "torch.manual_seed(42);"
   ]
  },
  {
   "cell_type": "code",
   "execution_count": 10,
   "id": "72227d28",
   "metadata": {
    "id": "72227d28"
   },
   "outputs": [
    {
     "name": "stdout",
     "output_type": "stream",
     "text": [
      "76579\n"
     ]
    }
   ],
   "source": [
    "n_embd = 24\n",
    "n_hidden = 128\n",
    "\n",
    "model = Sequential([\n",
    "    Embedding(vocab_size, n_embd),\n",
    "    FlattenConsecutive(2), Linear(n_embd * 2, n_hidden, bias = False),BatchNorm1d(n_hidden),Tanh(),\n",
    "    FlattenConsecutive(2), Linear(n_hidden * 2, n_hidden, bias = False),BatchNorm1d(n_hidden),Tanh(),\n",
    "    FlattenConsecutive(2), Linear(n_hidden * 2, n_hidden, bias = False),BatchNorm1d(n_hidden),Tanh(),\n",
    "    Linear(n_hidden, vocab_size)\n",
    "])\n",
    "\n",
    "with torch.no_grad():\n",
    "    model.layers[-1].weight *= 0.1\n",
    "parameters = model.parameters()\n",
    "print(sum(p.nelement() for p in parameters))\n",
    "for p in parameters:\n",
    "    p.requires_grad = True"
   ]
  },
  {
   "cell_type": "raw",
   "id": "423ea1ed",
   "metadata": {
    "id": "423ea1ed"
   },
   "source": [
    "Xtr.shape"
   ]
  },
  {
   "cell_type": "raw",
   "id": "7fa83ff6",
   "metadata": {
    "id": "7fa83ff6"
   },
   "source": [
    "ix = torch.randint(0, Xtr.shape[0], (4,))\n",
    "Xb = Xtr[ix]\n",
    "logits = model(x)"
   ]
  },
  {
   "cell_type": "raw",
   "id": "5e8567d8",
   "metadata": {
    "id": "5e8567d8"
   },
   "source": [
    "for layer in model.layers:\n",
    "    print(layer.__class__, ':', tuple(layer.out.shape))"
   ]
  },
  {
   "cell_type": "raw",
   "id": "7ddf6b20",
   "metadata": {
    "id": "7ddf6b20"
   },
   "source": [
    "model.layers[0].out.shape # Output of Embedding layer"
   ]
  },
  {
   "cell_type": "raw",
   "id": "91bc6792",
   "metadata": {
    "id": "91bc6792"
   },
   "source": [
    "model.layers[1].out.shape # Output of Flatten Layer"
   ]
  },
  {
   "cell_type": "raw",
   "id": "fd69f737",
   "metadata": {
    "id": "fd69f737"
   },
   "source": [
    "model.layers[2].out.shape # Output of Linear"
   ]
  },
  {
   "cell_type": "raw",
   "id": "cb86c046",
   "metadata": {
    "id": "cb86c046"
   },
   "source": [
    "model.layers[3].out.shape # Batch norm"
   ]
  },
  {
   "cell_type": "raw",
   "id": "876f880d",
   "metadata": {
    "id": "876f880d"
   },
   "source": [
    "(torch.randn(4,80) @ torch.randn(80,200) + torch.randn(200)).shape"
   ]
  },
  {
   "cell_type": "raw",
   "id": "7aa211b0",
   "metadata": {
    "id": "7aa211b0"
   },
   "source": [
    "list(range(10))[::2]"
   ]
  },
  {
   "cell_type": "raw",
   "id": "d23e9a91",
   "metadata": {
    "id": "d23e9a91"
   },
   "source": [
    "e = torch.randn(4, 8, 10) # want this to be 4, 4, 20, Earlier it was flattening to 4,80\n",
    "explicit = torch.cat([e[:, ::2, :], e[:,1::2, :]], dim = 2)"
   ]
  },
  {
   "cell_type": "raw",
   "id": "a89ab76f",
   "metadata": {
    "id": "a89ab76f"
   },
   "source": [
    "torch.all(explicit == e.view(4,4,20)).item()"
   ]
  },
  {
   "cell_type": "code",
   "execution_count": null,
   "id": "13ea8b7a",
   "metadata": {
    "id": "13ea8b7a"
   },
   "outputs": [
    {
     "name": "stdout",
     "output_type": "stream",
     "text": [
      "      0/ 200000: 3.3088\n",
      "  10000/ 200000: 2.4522\n"
     ]
    }
   ],
   "source": [
    "losses = []\n",
    "max_steps = 200000\n",
    "batch_size = 32\n",
    "for i in range(max_steps):\n",
    "    # mini-batch selection\n",
    "    ix = torch.randint(0, Xtr.shape[0], (batch_size,))\n",
    "    Xb, Yb = Xtr[ix], Ytr[ix]\n",
    "\n",
    "    # forward pass\n",
    "    logits = model(Xb)\n",
    "    loss = F.cross_entropy(logits, Yb)\n",
    "    \n",
    "    # backward pass\n",
    "    for p in parameters:\n",
    "        p.grad = None\n",
    "    loss.backward()\n",
    "    \n",
    "    lr = 0.1 if i < 150000 else 0.01\n",
    "    # update params\n",
    "    for p in parameters:\n",
    "        p.data += -lr * p.grad\n",
    "    \n",
    "    # track status\n",
    "    if i % 10000 == 0:\n",
    "        print(f'{i:7d}/{max_steps:7d}: {loss.item():.4f}')\n",
    "    losses.append(loss.log10().item())"
   ]
  },
  {
   "cell_type": "code",
   "execution_count": null,
   "id": "9_SVZ_1SHUDY",
   "metadata": {
    "id": "9_SVZ_1SHUDY"
   },
   "outputs": [],
   "source": [
    "model.layers[3].running_mean.shape"
   ]
  },
  {
   "cell_type": "code",
   "execution_count": null,
   "id": "ff7a4ae1",
   "metadata": {
    "id": "ff7a4ae1"
   },
   "outputs": [],
   "source": [
    "#plt.plot(losses)\n",
    "#better way\n",
    "plt.plot(torch.tensor(losses).view(-1,1000).mean(1))"
   ]
  },
  {
   "cell_type": "code",
   "execution_count": null,
   "id": "4fadc986",
   "metadata": {
    "id": "4fadc986"
   },
   "outputs": [],
   "source": [
    "for layer in model.layers:\n",
    "    layer.training = False"
   ]
  },
  {
   "cell_type": "code",
   "execution_count": null,
   "id": "c61f054a",
   "metadata": {
    "id": "c61f054a"
   },
   "outputs": [],
   "source": [
    "@torch.no_grad()\n",
    "def split_loss(split):\n",
    "    x, y = {\n",
    "        'train': (Xtr, Ytr),\n",
    "        'val': (Xdev, Ydev),\n",
    "        'test': (Xtest, Ytest)\n",
    "    }[split]\n",
    "    logits = model(x)\n",
    "    loss = F.cross_entropy(logits, y)\n",
    "    print(split, loss.item())\n",
    "    \n",
    "split_loss('train')\n",
    "split_loss('val')"
   ]
  },
  {
   "cell_type": "markdown",
   "id": "305190cb",
   "metadata": {
    "id": "305190cb"
   },
   "source": [
    "##### performance logging\n",
    "##### When using normal NN, with block_size equals 8, (Total parameter: 22K)\n",
    "\n",
    "*   train - 1.9203474521636963, \n",
    "*   val - 2.0419790744781494\n",
    "\n",
    "##### When using normal Wavenet architecture NN (Hierarchical), with block_size equals 8, (Total parameter: 22K)\n",
    "\n",
    "*  train - 1.9397433996200562\n",
    "*  val - 2.0300967693328857\n",
    "\n",
    "##### When using normal Wavenet architecture NN (Hierarchical), with block_size equals 8, (Total parameter: 22K, Note: BatchNorm is fixed)\n",
    "\n",
    "*  train - 1.9112377166748047\n",
    "*  val   - 2.0205328464508057\n",
    "\n",
    "\n",
    "\n"
   ]
  },
  {
   "cell_type": "code",
   "execution_count": null,
   "id": "8237f4cf",
   "metadata": {
    "id": "8237f4cf"
   },
   "outputs": [],
   "source": [
    "# sample from the model\n",
    "for _ in range(20):\n",
    "    out = []\n",
    "    context = [0]* block_size\n",
    "    while True:\n",
    "        logits = model(torch.tensor([context]))\n",
    "        probs = F.softmax(logits, dim=1)\n",
    "        ix = torch.multinomial(probs, num_samples=1).item()\n",
    "        context = context[1:] + [ix]\n",
    "        out.append(ix)\n",
    "        if ix == 0:\n",
    "            break\n",
    "    print(''.join(itos[i] for i in out))"
   ]
  }
 ],
 "metadata": {
  "colab": {
   "provenance": []
  },
  "gpuClass": "standard",
  "kernelspec": {
   "display_name": "Python 3 (ipykernel)",
   "language": "python",
   "name": "python3"
  },
  "language_info": {
   "codemirror_mode": {
    "name": "ipython",
    "version": 3
   },
   "file_extension": ".py",
   "mimetype": "text/x-python",
   "name": "python",
   "nbconvert_exporter": "python",
   "pygments_lexer": "ipython3",
   "version": "3.9.13"
  }
 },
 "nbformat": 4,
 "nbformat_minor": 5
}
