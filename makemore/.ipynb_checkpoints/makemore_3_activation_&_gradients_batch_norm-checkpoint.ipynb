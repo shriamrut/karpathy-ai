{
 "cells": [
  {
   "cell_type": "code",
   "execution_count": 1,
   "id": "94db52c2",
   "metadata": {},
   "outputs": [],
   "source": [
    "import torch\n",
    "import torch.nn.functional as F\n",
    "import matplotlib.pyplot as plt\n",
    "%matplotlib inline"
   ]
  },
  {
   "cell_type": "code",
   "execution_count": 2,
   "id": "fa2bbb2c",
   "metadata": {},
   "outputs": [
    {
     "data": {
      "text/plain": [
       "['emma', 'olivia', 'ava', 'isabella', 'sophia', 'charlotte', 'mia', 'amelia']"
      ]
     },
     "execution_count": 2,
     "metadata": {},
     "output_type": "execute_result"
    }
   ],
   "source": [
    "# read the words from the input file\n",
    "words = open(\"names.txt\", \"r\").read().splitlines()\n",
    "words[:8]"
   ]
  },
  {
   "cell_type": "code",
   "execution_count": 3,
   "id": "a9f2301f",
   "metadata": {},
   "outputs": [
    {
     "name": "stdout",
     "output_type": "stream",
     "text": [
      "32033\n"
     ]
    }
   ],
   "source": [
    "print(len(words))"
   ]
  },
  {
   "cell_type": "code",
   "execution_count": 4,
   "id": "dc666342",
   "metadata": {},
   "outputs": [
    {
     "name": "stdout",
     "output_type": "stream",
     "text": [
      "{1: 'a', 2: 'b', 3: 'c', 4: 'd', 5: 'e', 6: 'f', 7: 'g', 8: 'h', 9: 'i', 10: 'j', 11: 'k', 12: 'l', 13: 'm', 14: 'n', 15: 'o', 16: 'p', 17: 'q', 18: 'r', 19: 's', 20: 't', 21: 'u', 22: 'v', 23: 'w', 24: 'x', 25: 'y', 26: 'z', 0: '.'}\n",
      "27\n"
     ]
    }
   ],
   "source": [
    "# building the vocabulary\n",
    "chars = sorted(list(set(''.join(words))))\n",
    "stoi = {s: i+1 for i,s in enumerate(chars)}\n",
    "stoi['.'] = 0\n",
    "itos = {i:s for s, i in stoi.items()}\n",
    "vocab_size = len(itos)\n",
    "print(itos)\n",
    "print(vocab_size)"
   ]
  },
  {
   "cell_type": "code",
   "execution_count": 5,
   "id": "ebd26384",
   "metadata": {},
   "outputs": [],
   "source": [
    "block_size = 3"
   ]
  },
  {
   "cell_type": "code",
   "execution_count": 6,
   "id": "4985d6ee",
   "metadata": {},
   "outputs": [],
   "source": [
    "# building the data set based on the block size\n",
    "def build_dataset(words):\n",
    "    X,Y = [],[]\n",
    "    for word in words:\n",
    "        #print(word)\n",
    "        context = [0] * block_size\n",
    "        for ch in word + '.':\n",
    "            ix = stoi[ch]\n",
    "            X.append(context)\n",
    "            Y.append(ix)\n",
    "            #print(''.join(itos[c] for c in context), \"-->\", ch)\n",
    "            context = context[1:] + [ix]\n",
    "    X = torch.tensor(X)\n",
    "    Y = torch.tensor(Y)\n",
    "    print(X.shape,X.dtype, Y.shape, Y.dtype)\n",
    "    return X,Y"
   ]
  },
  {
   "cell_type": "code",
   "execution_count": 7,
   "id": "922b1421",
   "metadata": {},
   "outputs": [
    {
     "name": "stdout",
     "output_type": "stream",
     "text": [
      "torch.Size([182625, 3]) torch.int64 torch.Size([182625]) torch.int64\n",
      "torch.Size([22655, 3]) torch.int64 torch.Size([22655]) torch.int64\n",
      "torch.Size([22866, 3]) torch.int64 torch.Size([22866]) torch.int64\n"
     ]
    }
   ],
   "source": [
    "import random\n",
    "random.seed(42)\n",
    "random.shuffle(words)\n",
    "n1 = int(0.8 * len(words))\n",
    "n2 = int(0.9 * len(words))\n",
    "# train split, dev/validation split, test split\n",
    "# 80 %, 10%, 10%\n",
    "\n",
    "Xtr,Ytr = build_dataset(words[:n1])\n",
    "Xdev,Ydev = build_dataset(words[n1:n2])\n",
    "Xtest, Ytest = build_dataset(words[n2:])"
   ]
  },
  {
   "cell_type": "code",
   "execution_count": 65,
   "id": "080daeca",
   "metadata": {},
   "outputs": [
    {
     "name": "stdout",
     "output_type": "stream",
     "text": [
      "6197\n"
     ]
    }
   ],
   "source": [
    "# MLP revisited\n",
    "n_embed = 10 # embeding dimensionality\n",
    "n_hidden = 100 # number of hidden layer neurons of MLP\n",
    "\n",
    "g = torch.Generator().manual_seed(2147483647)\n",
    "C = torch.randn((vocab_size, n_embed), generator = g)\n",
    "W1 = torch.randn((n_embed * block_size, n_hidden),generator = g) * (5/3) / ((n_embed * block_size) ** 0.5) # Kainin Initialization techniqiue for Neural networks\n",
    "#b1 = torch.randn(n_hidden, generator = g) * 0.02\n",
    "W2 = torch.randn((n_hidden, vocab_size), generator = g) * 0.01\n",
    "b2 = torch.randn(vocab_size, generator = g) * 0\n",
    "\n",
    "bngain = torch.ones((1, n_hidden))\n",
    "bnbias = torch.zeros((1, n_hidden))\n",
    "\n",
    "bnmean_running = torch.zeros((1, n_hidden))\n",
    "bnstd_running = torch.ones((1, n_hidden))\n",
    "\n",
    "parameters = [C, W1, W2, b2, bngain, bnbias]\n",
    "\n",
    "\n",
    "\n",
    "print(sum(p.nelement() for p in parameters)) # number of parameters total\n",
    "for p in parameters:\n",
    "    p.requires_grad = True"
   ]
  },
  {
   "cell_type": "code",
   "execution_count": 66,
   "id": "99cac190",
   "metadata": {},
   "outputs": [
    {
     "name": "stdout",
     "output_type": "stream",
     "text": [
      "      0/ 200000: 3.2903\n",
      "  10000/ 200000: 2.2949\n",
      "  20000/ 200000: 2.0504\n",
      "  30000/ 200000: 1.9828\n",
      "  40000/ 200000: 2.5438\n",
      "  50000/ 200000: 1.9107\n",
      "  60000/ 200000: 2.1125\n",
      "  70000/ 200000: 2.2830\n",
      "  80000/ 200000: 1.8073\n",
      "  90000/ 200000: 1.9578\n",
      " 100000/ 200000: 2.4820\n",
      " 110000/ 200000: 1.9238\n",
      " 120000/ 200000: 2.1720\n",
      " 130000/ 200000: 1.9189\n",
      " 140000/ 200000: 2.1879\n",
      " 150000/ 200000: 1.8205\n",
      " 160000/ 200000: 2.2668\n",
      " 170000/ 200000: 1.8532\n",
      " 180000/ 200000: 2.3656\n",
      " 190000/ 200000: 1.8180\n"
     ]
    }
   ],
   "source": [
    "losses = []\n",
    "max_steps = 200000\n",
    "batch_size = 32\n",
    "\n",
    "for i in range(max_steps):\n",
    "    # mini-batch selection\n",
    "    ix = torch.randint(0, Xtr.shape[0], (batch_size,))\n",
    "    Xb, yb = Xtr[ix], Ytr[ix]\n",
    "\n",
    "    # forward pass\n",
    "    emb = C[Xb] # (batch_size, context, embedding_size)\n",
    "    embcat = emb.view(-1, n_embed * block_size)\n",
    "    hpreact = embcat @ W1 #+ b1 as its not required when batch normalization is used\n",
    "    bnmeani = hpreact.mean(0, keepdims=True)\n",
    "    bnstdi = hpreact.std(0, keepdims=True)\n",
    "    hpreact = bngain * ((hpreact - bnmeani) / bnstdi) + bnbias\n",
    "    with torch.no_grad():\n",
    "        bnmean_running = 0.999 * bnmean_running + 0.001 * bnmeani\n",
    "        bnstd_running = 0.999 * bnstd_running + 0.001 * bnstdi\n",
    "             \n",
    "    h = torch.tanh(hpreact) # hidden units\n",
    "    logits = h @ W2 + b2 # output layer\n",
    "    loss = F.cross_entropy(logits, Ytr[ix])\n",
    "    #print(loss.item())\n",
    "    # backward pass\n",
    "    for p in parameters:\n",
    "        p.grad = None\n",
    "    loss.backward()\n",
    "    \n",
    "    #lr = lrs[i]\n",
    "    lr = 0.1 if i < 100000 else 0.01\n",
    "    # update params\n",
    "    for p in parameters:\n",
    "        p.data += -lr * p.grad\n",
    "    # track status\n",
    "    if i % 10000 == 0:\n",
    "        print(f'{i:7d}/{max_steps:7d}: {loss.item():.4f}')\n",
    "    losses.append(loss.log10().item())"
   ]
  },
  {
   "cell_type": "code",
   "execution_count": 67,
   "id": "033963ea",
   "metadata": {},
   "outputs": [
    {
     "data": {
      "text/plain": [
       "[<matplotlib.lines.Line2D at 0x1c9db72f820>]"
      ]
     },
     "execution_count": 67,
     "metadata": {},
     "output_type": "execute_result"
    },
    {
     "data": {
      "image/png": "[encoded data removed]",
      "text/plain": [
       "<Figure size 640x480 with 1 Axes>"
      ]
     },
     "metadata": {},
     "output_type": "display_data"
    }
   ],
   "source": [
    "plt.plot(losses)"
   ]
  },
  {
   "cell_type": "code",
   "execution_count": 68,
   "id": "573fe21a",
   "metadata": {},
   "outputs": [],
   "source": [
    "# calibrating the batch propagation for bngain and bnbias\n",
    "\n",
    "with torch.no_grad():\n",
    "    emb = C[Xtr]\n",
    "    embcat = emb.view(emb.shape[0], -1)\n",
    "    hpreact = embcat @ W1 #+ b1 # (samples, 200)\n",
    "    bnmean = hpreact.mean(0, keepdims = True)\n",
    "    bnstd = hpreact.std(0, keepdims = True)"
   ]
  },
  {
   "cell_type": "code",
   "execution_count": 69,
   "id": "d41de527",
   "metadata": {},
   "outputs": [
    {
     "data": {
      "text/plain": [
       "tensor([[-3.5821,  1.6312, -1.2192,  2.2345, -1.5309, -1.3210, -1.3495, -1.5307,\n",
       "         -0.7541, -0.5942, -1.5235, -0.7585,  0.9428,  0.1955, -0.2396,  0.0294,\n",
       "          1.0260, -3.8266,  0.9605,  1.0506, -0.1892, -0.8367,  0.1177,  1.9622,\n",
       "          0.0621,  0.2349,  1.7552, -1.0247, -2.0495, -0.9349,  0.1555, -0.7943,\n",
       "         -1.6855,  0.2181, -0.9730, -0.9110, -0.3731, -0.6997,  0.1480, -1.8860,\n",
       "         -0.6217,  0.7416,  0.6572, -1.2140,  0.3871, -1.7710, -0.2047,  0.8839,\n",
       "          0.9942,  0.0401,  2.1592, -0.7369, -2.4369,  1.1389,  1.4153,  1.2352,\n",
       "         -0.9456, -3.0892,  0.4137,  1.1734,  0.2095,  0.9146,  0.8700, -0.7517,\n",
       "         -1.2514, -0.1419, -0.8536, -0.5000, -2.0479,  1.6176, -0.2584,  0.5427,\n",
       "         -0.4181, -0.4919,  0.3669,  0.9476,  0.9463, -2.7407, -3.0017, -0.8526,\n",
       "         -1.8042, -1.2369, -0.0640,  1.1783, -0.9637, -2.0654,  1.2586,  0.1822,\n",
       "          1.1135, -0.1595,  1.6519, -0.3922,  0.3602, -1.0107, -2.1955,  2.6493,\n",
       "         -1.0425, -2.2482, -0.9948,  2.6489]])"
      ]
     },
     "execution_count": 69,
     "metadata": {},
     "output_type": "execute_result"
    }
   ],
   "source": [
    "bnmean"
   ]
  },
  {
   "cell_type": "code",
   "execution_count": 70,
   "id": "3a31190c",
   "metadata": {},
   "outputs": [
    {
     "data": {
      "text/plain": [
       "tensor([[-3.5816,  1.6441, -1.2317,  2.2557, -1.5359, -1.3216, -1.3575, -1.5529,\n",
       "         -0.7570, -0.6026, -1.5267, -0.7710,  0.9531,  0.1809, -0.2448,  0.0506,\n",
       "          1.0464, -3.8590,  0.9692,  1.0469, -0.1943, -0.8249,  0.1295,  1.9521,\n",
       "          0.0751,  0.2462,  1.7582, -1.0124, -2.0635, -0.9464,  0.1513, -0.7985,\n",
       "         -1.6925,  0.2224, -0.9745, -0.8991, -0.3927, -0.7112,  0.1487, -1.8913,\n",
       "         -0.6298,  0.7362,  0.6791, -1.2182,  0.3850, -1.7865, -0.1921,  0.8806,\n",
       "          0.9933,  0.0383,  2.1727, -0.7561, -2.4615,  1.1437,  1.4296,  1.2336,\n",
       "         -0.9533, -3.0843,  0.4167,  1.1678,  0.2078,  0.9243,  0.8451, -0.7575,\n",
       "         -1.2415, -0.1555, -0.8586, -0.4886, -2.0375,  1.6234, -0.2525,  0.5548,\n",
       "         -0.4120, -0.4665,  0.3600,  0.9479,  0.9485, -2.7392, -2.9913, -0.8485,\n",
       "         -1.7998, -1.2267, -0.0556,  1.1847, -0.9663, -2.0795,  1.2409,  0.1984,\n",
       "          1.1299, -0.1384,  1.6630, -0.4079,  0.3543, -1.0094, -2.1950,  2.6536,\n",
       "         -1.0594, -2.2626, -0.9902,  2.6638]])"
      ]
     },
     "execution_count": 70,
     "metadata": {},
     "output_type": "execute_result"
    }
   ],
   "source": [
    "bnmean_running"
   ]
  },
  {
   "cell_type": "code",
   "execution_count": 71,
   "id": "10521cf6",
   "metadata": {},
   "outputs": [
    {
     "data": {
      "text/plain": [
       "tensor([[2.8180, 2.4748, 3.0287, 3.1279, 2.1526, 2.3352, 2.3529, 2.1135, 2.5701,\n",
       "         2.3185, 2.2292, 3.0758, 2.4598, 2.8065, 2.2525, 2.4654, 3.0786, 2.3246,\n",
       "         2.4720, 2.0715, 2.4687, 2.9102, 2.3043, 2.8024, 2.4278, 2.4877, 2.4479,\n",
       "         2.6201, 2.4617, 2.4950, 2.0941, 2.6847, 2.8191, 2.3426, 2.3932, 2.4394,\n",
       "         1.8422, 3.0718, 2.5007, 2.5256, 2.7132, 2.7222, 2.5417, 2.6529, 2.3591,\n",
       "         2.5229, 2.3201, 3.2833, 2.1597, 2.2042, 2.5903, 2.4433, 2.9077, 2.3382,\n",
       "         2.4572, 2.3563, 2.3439, 2.6009, 2.2476, 2.2485, 2.2956, 2.5970, 2.4911,\n",
       "         2.6918, 2.5667, 2.6272, 2.2707, 2.2764, 3.0403, 2.7084, 2.4448, 2.7306,\n",
       "         1.9366, 2.4019, 2.4059, 2.5929, 2.5333, 2.2488, 3.2356, 1.9410, 2.4995,\n",
       "         2.5661, 2.3935, 2.4057, 2.2621, 2.5013, 2.7716, 2.1988, 2.5033, 2.6643,\n",
       "         2.5174, 2.6439, 2.5734, 3.1993, 2.5550, 2.3927, 2.2067, 2.6088, 2.3479,\n",
       "         2.3918]])"
      ]
     },
     "execution_count": 71,
     "metadata": {},
     "output_type": "execute_result"
    }
   ],
   "source": [
    "bnstd"
   ]
  },
  {
   "cell_type": "code",
   "execution_count": 72,
   "id": "3d16353a",
   "metadata": {},
   "outputs": [
    {
     "data": {
      "text/plain": [
       "tensor([[2.8010, 2.4469, 2.9790, 3.1158, 2.1250, 2.3137, 2.3131, 2.0779, 2.5444,\n",
       "         2.2954, 2.2033, 3.0558, 2.4500, 2.7770, 2.2277, 2.4438, 3.0567, 2.3047,\n",
       "         2.4660, 2.0455, 2.4392, 2.8966, 2.2795, 2.7667, 2.4155, 2.4671, 2.4316,\n",
       "         2.5924, 2.4521, 2.4595, 2.0620, 2.6672, 2.7995, 2.3285, 2.3785, 2.4169,\n",
       "         1.8324, 3.0271, 2.4771, 2.5021, 2.7023, 2.7028, 2.5087, 2.6166, 2.3477,\n",
       "         2.4966, 2.2960, 3.2242, 2.1353, 2.1882, 2.5511, 2.4130, 2.8806, 2.3038,\n",
       "         2.4326, 2.3265, 2.3287, 2.5806, 2.2304, 2.2137, 2.2802, 2.5480, 2.4684,\n",
       "         2.6631, 2.5387, 2.5968, 2.2445, 2.2600, 3.0274, 2.6774, 2.4403, 2.7238,\n",
       "         1.9206, 2.3835, 2.3791, 2.5610, 2.5087, 2.2107, 3.2322, 1.9133, 2.4862,\n",
       "         2.5409, 2.3605, 2.3807, 2.2201, 2.4833, 2.7397, 2.1694, 2.4639, 2.6407,\n",
       "         2.4828, 2.6074, 2.5409, 3.1836, 2.5461, 2.3679, 2.1826, 2.5918, 2.3209,\n",
       "         2.3454]])"
      ]
     },
     "execution_count": 72,
     "metadata": {},
     "output_type": "execute_result"
    }
   ],
   "source": [
    "bnstd_running"
   ]
  },
  {
   "cell_type": "code",
   "execution_count": 73,
   "id": "bf59abdc",
   "metadata": {},
   "outputs": [
    {
     "name": "stdout",
     "output_type": "stream",
     "text": [
      "train 2.114677906036377\n",
      "val 2.1412901878356934\n"
     ]
    }
   ],
   "source": [
    "@torch.no_grad()\n",
    "def split_loss(split):\n",
    "    x,y = {\n",
    "        'train' : (Xtr, Ytr),\n",
    "        'val': (Xdev, Ydev),\n",
    "        'test': (Xtest, Ytest)\n",
    "    }[split]\n",
    "    emb = C[x]\n",
    "    embcat = emb.view(emb.shape[0], -1)\n",
    "    hpreact = embcat @ W1 #+ b1 not required \n",
    "    #hpreact = bngain * ((hpreact - hpreact.mean(0, keepdims=True)) / (hpreact.std(0, keepdims=True))) + bnbias\n",
    "    hpreact = bngain * ((hpreact - bnmean_running) / bnstd_running) + bnbias\n",
    "    h = torch.tanh(hpreact)\n",
    "    logits = h @ W2 + b2\n",
    "    loss = F.cross_entropy(logits, y)\n",
    "    print(split, loss.item())\n",
    "    \n",
    "split_loss('train')\n",
    "split_loss('val')"
   ]
  },
  {
   "cell_type": "code",
   "execution_count": 23,
   "id": "419fa9f6",
   "metadata": {},
   "outputs": [
    {
     "name": "stdout",
     "output_type": "stream",
     "text": [
      "carlah.\n",
      "amelle.\n",
      "khi.\n",
      "mili.\n",
      "thiyah.\n",
      "cassie.\n",
      "rahnel.\n",
      "delynn.\n",
      "jareen.\n",
      "ner.\n",
      "kentzerian.\n",
      "kaleigh.\n",
      "ham.\n",
      "join.\n",
      "quintzonor.\n",
      "raiviani.\n",
      "watell.\n",
      "dearyxiann.\n",
      "evedrra.\n",
      "med.\n"
     ]
    }
   ],
   "source": [
    "g = torch.Generator().manual_seed(2147483647 + 10)\n",
    "for _ in range(20):\n",
    "    out = []\n",
    "    context = [0]* block_size\n",
    "    while True:\n",
    "        emb = C[torch.tensor([context])]\n",
    "        h = torch.tanh(emb.view(1, -1) @ W1) \n",
    "        logits = h @ W2 + b2\n",
    "        probs = F.softmax(logits, dim=1)\n",
    "        ix = torch.multinomial(probs, num_samples=1, generator=g).item()\n",
    "        context = context[1:] + [ix]\n",
    "        out.append(ix)\n",
    "        if ix == 0:\n",
    "            break\n",
    "    print(''.join(itos[i] for i in out))"
   ]
  },
  {
   "cell_type": "markdown",
   "id": "43c42f3c",
   "metadata": {},
   "source": [
    "##### Pytorchifying the Code"
   ]
  },
  {
   "cell_type": "code",
   "execution_count": null,
   "id": "2edfe259",
   "metadata": {},
   "outputs": [],
   "source": [
    "class Linear:\n",
    "    def __init__(self, fan_in, fan_out, bias=True):\n",
    "        self.weight = torch.randn((fan_in, fan_out), generator = g) / fan_in**0.5\n",
    "        self.bias = torch.zeros((fan_out)) if bias else None\n",
    "    def __call__(self, x):\n",
    "        self.out = x @ self.weight\n",
    "        if self.bias is not None:\n",
    "            self.out += self.bias\n",
    "    def parameters(self):\n",
    "        return [self.weight] + ([] if self.bias is None else [self.bias])\n",
    "\n",
    "class BatchNorm1d:\n",
    "    def __init__(self, dim, eps=1e-5, momentum = 0.1):\n",
    "        self.eps = eps\n",
    "        self.momentum = momentum\n",
    "        self.training = True\n",
    "        #parameters (trained with backprop)\n",
    "        self.gamma = torch.ones(dim)\n",
    "        self.beta = torch.zeros(dim)\n",
    "        \n",
    "        # buffers (trained with momentum update)\n",
    "        self.running_mean = torch.zeros(dim)\n",
    "        self.running_var = torch.ones(dim)\n",
    "        \n",
    "    def __call__(self, x):\n",
    "        if self.training:\n",
    "            xmean = x.mean(0, keep_dims = True)\n",
    "            xvar = x.var(0, keep_dims = True)\n",
    "        else :\n",
    "            xmean = self.running_mean\n",
    "            xvar = self.running_var\n",
    "        xhat = (x - xmean) / torch.sqrt(std + self.eps)\n",
    "        self.out = self.gamma * self.xhat + self.beta\n",
    "        if self.training:\n",
    "            with torch.no_grad():\n",
    "                self.running_mean = (1 - self.momentum) * self.running_mean + self.momentum * xmean\n",
    "                self.running_var = (1 - self.momentum) * self.running_var + self.momentum * xvar\n",
    "        return self.out\n",
    "    def parameters(self):\n",
    "        return [self.gamma, self.beta]\n",
    "    \n",
    "\n",
    "class Tanh:\n",
    "    def __call__(self, x):\n",
    "        self.out = torch.tanh(x)\n",
    "        \n",
    "    def parameters(self):\n",
    "        return []\n",
    "    "
   ]
  }
 ],
 "metadata": {
  "kernelspec": {
   "display_name": "Python 3 (ipykernel)",
   "language": "python",
   "name": "python3"
  },
  "language_info": {
   "codemirror_mode": {
    "name": "ipython",
    "version": 3
   },
   "file_extension": ".py",
   "mimetype": "text/x-python",
   "name": "python",
   "nbconvert_exporter": "python",
   "pygments_lexer": "ipython3",
   "version": "3.9.13"
  }
 },
 "nbformat": 4,
 "nbformat_minor": 5
}
