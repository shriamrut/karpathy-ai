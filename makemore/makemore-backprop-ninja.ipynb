{
 "cells": [
  {
   "cell_type": "code",
   "execution_count": 1,
   "id": "65d7b9b6",
   "metadata": {},
   "outputs": [],
   "source": [
    "import torch\n",
    "import torch.nn.functional as F\n",
    "import matplotlib.pyplot as plt\n",
    "%matplotlib inline"
   ]
  },
  {
   "cell_type": "code",
   "execution_count": 2,
   "id": "2852d2bb",
   "metadata": {},
   "outputs": [
    {
     "data": {
      "text/plain": [
       "['emma', 'olivia', 'ava', 'isabella', 'sophia', 'charlotte', 'mia', 'amelia']"
      ]
     },
     "execution_count": 2,
     "metadata": {},
     "output_type": "execute_result"
    }
   ],
   "source": [
    "# read the words from the input file\n",
    "words = open(\"names.txt\", \"r\").read().splitlines()\n",
    "words[:8]"
   ]
  },
  {
   "cell_type": "code",
   "execution_count": 3,
   "id": "c8ffafa7",
   "metadata": {},
   "outputs": [
    {
     "name": "stdout",
     "output_type": "stream",
     "text": [
      "{1: 'a', 2: 'b', 3: 'c', 4: 'd', 5: 'e', 6: 'f', 7: 'g', 8: 'h', 9: 'i', 10: 'j', 11: 'k', 12: 'l', 13: 'm', 14: 'n', 15: 'o', 16: 'p', 17: 'q', 18: 'r', 19: 's', 20: 't', 21: 'u', 22: 'v', 23: 'w', 24: 'x', 25: 'y', 26: 'z', 0: '.'}\n",
      "27\n"
     ]
    }
   ],
   "source": [
    "# building the vocabulary\n",
    "chars = sorted(list(set(''.join(words))))\n",
    "stoi = {s: i+1 for i,s in enumerate(chars)}\n",
    "stoi['.'] = 0\n",
    "itos = {i:s for s, i in stoi.items()}\n",
    "vocab_size = len(itos)\n",
    "print(itos)\n",
    "print(vocab_size)"
   ]
  },
  {
   "cell_type": "code",
   "execution_count": 4,
   "id": "44cb9881",
   "metadata": {},
   "outputs": [],
   "source": [
    "block_size = 3\n",
    "# building the data set based on the block size\n",
    "def build_dataset(words):\n",
    "    X,Y = [],[]\n",
    "    for word in words:\n",
    "        #print(word)\n",
    "        context = [0] * block_size\n",
    "        for ch in word + '.':\n",
    "            ix = stoi[ch]\n",
    "            X.append(context)\n",
    "            Y.append(ix)\n",
    "            #print(''.join(itos[c] for c in context), \"-->\", ch)\n",
    "            context = context[1:] + [ix]\n",
    "    X = torch.tensor(X)\n",
    "    Y = torch.tensor(Y)\n",
    "    print(X.shape,X.dtype, Y.shape, Y.dtype)\n",
    "    return X,Y"
   ]
  },
  {
   "cell_type": "code",
   "execution_count": 5,
   "id": "f30f2d92",
   "metadata": {},
   "outputs": [
    {
     "name": "stdout",
     "output_type": "stream",
     "text": [
      "torch.Size([182625, 3]) torch.int64 torch.Size([182625]) torch.int64\n",
      "torch.Size([22655, 3]) torch.int64 torch.Size([22655]) torch.int64\n",
      "torch.Size([22866, 3]) torch.int64 torch.Size([22866]) torch.int64\n"
     ]
    }
   ],
   "source": [
    "import random\n",
    "random.seed(42)\n",
    "random.shuffle(words)\n",
    "n1 = int(0.8 * len(words))\n",
    "n2 = int(0.9 * len(words))\n",
    "# train split, dev/validation split, test split\n",
    "# 80 %, 10%, 10%\n",
    "\n",
    "Xtr,Ytr = build_dataset(words[:n1])\n",
    "Xdev,Ydev = build_dataset(words[n1:n2])\n",
    "Xtest, Ytest = build_dataset(words[n2:])"
   ]
  },
  {
   "cell_type": "code",
   "execution_count": 6,
   "id": "42a51771",
   "metadata": {},
   "outputs": [],
   "source": [
    "def cmp(s, dt, t):\n",
    "    ex = torch.all(dt == t.grad).item()\n",
    "    app = torch.allclose(dt, t.grad)\n",
    "    maxdiff = (dt - t.grad).abs().max().item()\n",
    "    print(f'{s:15s} | exact: {str(ex):5s} | approximate: {str(app):5s} | maxdiff: {str(maxdiff)}')"
   ]
  },
  {
   "cell_type": "code",
   "execution_count": 7,
   "id": "51745a94",
   "metadata": {},
   "outputs": [
    {
     "name": "stdout",
     "output_type": "stream",
     "text": [
      "4137\n"
     ]
    }
   ],
   "source": [
    "# MLP revisited\n",
    "n_embed = 10 # embeding dimensionality\n",
    "n_hidden = 64 # number of hidden layer neurons of MLP\n",
    "\n",
    "g = torch.Generator().manual_seed(2147483647)\n",
    "C = torch.randn((vocab_size, n_embed), generator = g)\n",
    "# Layer 1\n",
    "W1 = torch.randn((n_embed * block_size, n_hidden),generator = g) * (5/3) / ((n_embed * block_size) ** 0.5) # Kainin Initialization techniqiue for Neural networks\n",
    "b1 = torch.randn(n_hidden, generator = g) * 0.1\n",
    "\n",
    "#Layer 2\n",
    "W2 = torch.randn((n_hidden, vocab_size), generator = g) * 0.1\n",
    "b2 = torch.randn(vocab_size, generator = g) * 0.1\n",
    "\n",
    "#BatchNorm\n",
    "bngain = torch.ones((1, n_hidden))*0.1 + 1.0\n",
    "bnbias = torch.zeros((1, n_hidden))*0.1\n",
    "\n",
    "bnmean_running = torch.zeros((1, n_hidden))\n",
    "bnstd_running = torch.ones((1, n_hidden))\n",
    "\n",
    "parameters = [C, W1, b1, W2, b2, bngain, bnbias]\n",
    "\n",
    "# implementation of the backward pass\n",
    "\n",
    "\n",
    "print(sum(p.nelement() for p in parameters)) # number of parameters total\n",
    "for p in parameters:\n",
    "    p.requires_grad = True"
   ]
  },
  {
   "cell_type": "code",
   "execution_count": 8,
   "id": "593ee343",
   "metadata": {},
   "outputs": [],
   "source": [
    "# construct a mini batch\n",
    "batch_size = 32\n",
    "n = batch_size\n",
    "ix = torch.randint(0, Xtr.shape[0], (batch_size,), generator = g)\n",
    "Xb, Yb = Xtr[ix], Ytr[ix]"
   ]
  },
  {
   "cell_type": "code",
   "execution_count": 9,
   "id": "885b9e22",
   "metadata": {},
   "outputs": [
    {
     "data": {
      "text/plain": [
       "(torch.Size([32, 3]), torch.Size([32]))"
      ]
     },
     "execution_count": 9,
     "metadata": {},
     "output_type": "execute_result"
    }
   ],
   "source": [
    "Xb.shape, Yb.shape"
   ]
  },
  {
   "cell_type": "code",
   "execution_count": 10,
   "id": "7db15e76",
   "metadata": {},
   "outputs": [
    {
     "data": {
      "text/plain": [
       "tensor(3.3482, grad_fn=<NegBackward0>)"
      ]
     },
     "execution_count": 10,
     "metadata": {},
     "output_type": "execute_result"
    }
   ],
   "source": [
    "# forward pass chunkated in smaller operations\n",
    "emb = C[Xb]\n",
    "embcat = emb.view(emb.shape[0], -1)\n",
    "\n",
    "# Linear Layer 1\n",
    "hprebn = embcat @ W1 + b1\n",
    "\n",
    "# Batch norm layer\n",
    "bnmeani = 1/n*hprebn.sum(0, keepdim=True)\n",
    "bndiff = hprebn-bnmeani\n",
    "bndiff2 = bndiff**2\n",
    "bnvar = 1/(n-1)*(bndiff2).sum(0, keepdim=True)\n",
    "bnvar_inv =  (bnvar+1e-5)**-0.5\n",
    "bnraw = bndiff * bnvar_inv\n",
    "hpreact = bnraw * bngain + bnbias\n",
    "\n",
    "# Non linearity\n",
    "h = torch.tanh(hpreact)\n",
    "\n",
    "# Linear Layer 2\n",
    "logits = h @ W2 + b2\n",
    "#print(\"logits.shape: \",logits.shape)\n",
    "logit_maxes = logits.max(1, keepdim=True).values\n",
    "norm_logits = logits - logit_maxes\n",
    "counts = norm_logits.exp()\n",
    "#print(\"counts.shape: \", counts.shape)\n",
    "counts_sum = counts.sum(1, keepdim=True)\n",
    "#print(\"counts_sum.shape: \", counts_sum.shape)\n",
    "counts_sum_inv = counts_sum ** -1\n",
    "probs = counts * counts_sum_inv\n",
    "#print(\"probs.shape: \", probs.shape)\n",
    "logprobs = probs.log()\n",
    "#print(logprobs.shape)\n",
    "loss = -logprobs[range(n), Yb].mean()\n",
    "\n",
    "# Pytorch backward pass\n",
    "for p in parameters:\n",
    "    p.grads = None\n",
    "\n",
    "for t in  [logprobs, probs, counts, counts_sum, counts_sum_inv, \n",
    "          norm_logits, logit_maxes, logits, h, hpreact, bnraw,\n",
    "         bnvar_inv, bnvar, bndiff2, bndiff, hprebn, bnmeani,\n",
    "         embcat, emb]:\n",
    "    t.retain_grad()\n",
    "loss.backward()\n",
    "loss"
   ]
  },
  {
   "cell_type": "code",
   "execution_count": 11,
   "id": "e5e4b391",
   "metadata": {},
   "outputs": [
    {
     "name": "stdout",
     "output_type": "stream",
     "text": [
      "torch.Size([32, 27])\n",
      "torch.Size([32, 1, 27])\n"
     ]
    }
   ],
   "source": [
    "print(logits.shape)\n",
    "print(F.one_hot(logits.max(1, keepdim=True).indices, logits.shape[1]).shape)"
   ]
  },
  {
   "cell_type": "code",
   "execution_count": 12,
   "id": "486a6039",
   "metadata": {},
   "outputs": [
    {
     "name": "stdout",
     "output_type": "stream",
     "text": [
      "logprobs        | exact: True  | approximate: True  | maxdiff: 0.0\n",
      "probs           | exact: True  | approximate: True  | maxdiff: 0.0\n",
      "counts_sum_inv  | exact: True  | approximate: True  | maxdiff: 0.0\n",
      "counts_sum      | exact: True  | approximate: True  | maxdiff: 0.0\n",
      "counts          | exact: True  | approximate: True  | maxdiff: 0.0\n",
      "norm_logits     | exact: True  | approximate: True  | maxdiff: 0.0\n",
      "logit_maxes     | exact: True  | approximate: True  | maxdiff: 0.0\n",
      "logits          | exact: True  | approximate: True  | maxdiff: 0.0\n",
      "h               | exact: True  | approximate: True  | maxdiff: 0.0\n",
      "W2              | exact: True  | approximate: True  | maxdiff: 0.0\n",
      "b2              | exact: True  | approximate: True  | maxdiff: 0.0\n",
      "hpreact         | exact: True  | approximate: True  | maxdiff: 0.0\n",
      "bngain          | exact: True  | approximate: True  | maxdiff: 0.0\n",
      "bnbias          | exact: True  | approximate: True  | maxdiff: 0.0\n",
      "bnraw           | exact: True  | approximate: True  | maxdiff: 0.0\n",
      "bnvar_inv       | exact: True  | approximate: True  | maxdiff: 0.0\n",
      "bnvar           | exact: True  | approximate: True  | maxdiff: 0.0\n",
      "bndiff2         | exact: True  | approximate: True  | maxdiff: 0.0\n",
      "bndiff          | exact: True  | approximate: True  | maxdiff: 0.0\n",
      "bnmeani         | exact: True  | approximate: True  | maxdiff: 0.0\n",
      "hprebn          | exact: True  | approximate: True  | maxdiff: 0.0\n",
      "embcat          | exact: True  | approximate: True  | maxdiff: 0.0\n",
      "W1              | exact: True  | approximate: True  | maxdiff: 0.0\n",
      "b1              | exact: True  | approximate: True  | maxdiff: 0.0\n",
      "emb             | exact: True  | approximate: True  | maxdiff: 0.0\n",
      "C               | exact: True  | approximate: True  | maxdiff: 0.0\n"
     ]
    }
   ],
   "source": [
    "# Exercise 1: backprop through the whole thing manually, \n",
    "# backpropagating through exactly all of the variables \n",
    "# as they are defined in the forward pass above, one by one\n",
    "\n",
    "# -----------------\n",
    "# YOUR CODE HERE :)\n",
    "# -----------------\n",
    "dlogprobs = torch.zeros_like(logprobs)\n",
    "dlogprobs[range(n), Yb] = -1.0/n\n",
    "dprobs = (1/probs) * dlogprobs\n",
    "dcounts_sum_inv = (counts * dprobs).sum(1, keepdim=True)\n",
    "dcounts = counts_sum_inv * dprobs\n",
    "dcounts_sum = - (counts_sum**-2)*dcounts_sum_inv\n",
    "dcounts += torch.ones_like(counts) * dcounts_sum\n",
    "dnorm_logits = (counts) * dcounts \n",
    "dlogits = dnorm_logits.clone()\n",
    "dlogit_maxes = (-dnorm_logits).sum(1, keepdim=True)\n",
    "dlogits += F.one_hot(logits.max(1).indices, logits.shape[1]) * dlogit_maxes\n",
    "dh = dlogits @ W2.T # logits = h @ W2 + b2 # Trick: As you know which you need to multiply to get the result. Write down dims and try to obtain the dim equal to respective variable that you want a derivative of\n",
    "dW2 = h.T @ dlogits\n",
    "db2 = dlogits.sum(0)\n",
    "dhpreact = (1.0 - h**2) * dh\n",
    "dbngain = (bnraw * dhpreact).sum(0, keepdim=True)\n",
    "dbnraw = bngain * dhpreact\n",
    "dbnbias = dhpreact.sum(0, keepdim=True)\n",
    "dbndiff = bnvar_inv * dbnraw\n",
    "dbnvar_inv = (bndiff * dbnraw).sum(0, keepdim=True)\n",
    "dbnvar = (-0.5 * (bnvar + 1e-5) ** (-1.5)) * dbnvar_inv\n",
    "dbndiff2 = (1/(n-1)) * torch.ones_like(bndiff) * dbnvar\n",
    "dbndiff  += (2*bndiff) * dbndiff2\n",
    "\n",
    "dhprebn = dbndiff.clone()\n",
    "dbnmeani = (-dbndiff).sum(0) \n",
    "dhprebn += (1.0/n) * (torch.ones_like(hprebn) * dbnmeani) #bnmeani = 1/n*hprebn.sum(0, keepdim=True)\n",
    "\n",
    "dembcat = dhprebn @ W1.T\n",
    "dW1 = embcat.T @ dhprebn\n",
    "db1 = dhprebn.sum(0)\n",
    "demb = dembcat.view(emb.shape)\n",
    "\n",
    "dC = torch.zeros_like(C)\n",
    "for k in range(Xb.shape[0]):\n",
    "    for j in range(Xb.shape[1]):\n",
    "        ix = Xb[k,j]\n",
    "        dC[ix] += demb[k,j]\n",
    "\n",
    "cmp('logprobs', dlogprobs, logprobs)\n",
    "cmp('probs', dprobs, probs)\n",
    "cmp('counts_sum_inv', dcounts_sum_inv, counts_sum_inv)\n",
    "cmp('counts_sum', dcounts_sum, counts_sum)\n",
    "cmp('counts', dcounts, counts)\n",
    "cmp('norm_logits', dnorm_logits, norm_logits)\n",
    "cmp('logit_maxes', dlogit_maxes, logit_maxes)\n",
    "cmp('logits', dlogits, logits)\n",
    "cmp('h', dh, h)\n",
    "cmp('W2', dW2, W2)\n",
    "cmp('b2', db2, b2)\n",
    "cmp('hpreact', dhpreact, hpreact)\n",
    "cmp('bngain', dbngain, bngain)\n",
    "cmp('bnbias', dbnbias, bnbias)\n",
    "cmp('bnraw', dbnraw, bnraw)\n",
    "cmp('bnvar_inv', dbnvar_inv, bnvar_inv)\n",
    "cmp('bnvar', dbnvar, bnvar)\n",
    "cmp('bndiff2', dbndiff2, bndiff2)\n",
    "cmp('bndiff', dbndiff, bndiff)\n",
    "cmp('bnmeani', dbnmeani, bnmeani)\n",
    "cmp('hprebn', dhprebn, hprebn)\n",
    "cmp('embcat', dembcat, embcat)\n",
    "cmp('W1', dW1, W1)\n",
    "cmp('b1', db1, b1)\n",
    "cmp('emb', demb, emb)\n",
    "cmp('C', dC, C)"
   ]
  },
  {
   "cell_type": "code",
   "execution_count": 13,
   "id": "ee201b35",
   "metadata": {},
   "outputs": [
    {
     "name": "stdout",
     "output_type": "stream",
     "text": [
      "3.348198175430298 diff: 0.0\n"
     ]
    }
   ],
   "source": [
    "# Exercise 2: backprop through cross_entropy but all in one go\n",
    "# to complete this challenge look at the mathematical expression of the loss,\n",
    "# take the derivative, simplify the expression, and just write it out\n",
    "\n",
    "# forward pass\n",
    "\n",
    "# before:\n",
    "# logit_maxes = logits.max(1, keepdim=True).values\n",
    "# norm_logits = logits - logit_maxes # subtract max for numerical stability\n",
    "# counts = norm_logits.exp()\n",
    "# counts_sum = counts.sum(1, keepdims=True)\n",
    "# counts_sum_inv = counts_sum**-1 # if I use (1.0 / counts_sum) instead then I can't get backprop to be bit exact...\n",
    "# probs = counts * counts_sum_inv\n",
    "# logprobs = probs.log()\n",
    "# loss = -logprobs[range(n), Yb].mean()\n",
    "\n",
    "# now:\n",
    "loss_fast = F.cross_entropy(logits, Yb)\n",
    "print(loss_fast.item(), 'diff:', (loss_fast - loss).item())"
   ]
  },
  {
   "cell_type": "markdown",
   "id": "2daeb906",
   "metadata": {},
   "source": [
    "logits = h @ W2 + b2\n",
    "logit_maxes = logits.max(1, keepdim=True).values\n",
    "norm_logits = logits - logit_maxes\n",
    "counts = norm_logits.exp()\n",
    "counts_sum = counts.sum(1, keepdim=True)\n",
    "counts_sum_inv = counts_sum ** -1\n",
    "probs = counts * counts_sum_inv\n",
    "logprobs = probs.log()\n",
    "loss = -logprobs[range(n), Yb].mean()"
   ]
  },
  {
   "cell_type": "code",
   "execution_count": 14,
   "id": "f05c818a",
   "metadata": {},
   "outputs": [
    {
     "name": "stdout",
     "output_type": "stream",
     "text": [
      "logits          | exact: False | approximate: True  | maxdiff: 1.0477378964424133e-08\n"
     ]
    }
   ],
   "source": [
    "# backward pass\n",
    "\n",
    "# -----------------\n",
    "# YOUR CODE HERE :)\n",
    "\n",
    "# -----------------\n",
    "\n",
    "cmp('logits', dlogits, logits) # I can only get approximate to be true, my maxdiff is 6e-9"
   ]
  },
  {
   "cell_type": "code",
   "execution_count": 18,
   "id": "24a99db7",
   "metadata": {},
   "outputs": [
    {
     "data": {
      "text/plain": [
       "tensor([[ 0.0023,  0.0027,  0.0006,  0.0016,  0.0006,  0.0026,  0.0007,  0.0011,\n",
       "         -0.0307,  0.0010,  0.0011,  0.0012,  0.0012,  0.0009,  0.0011,  0.0004,\n",
       "          0.0003,  0.0006,  0.0005,  0.0017,  0.0016,  0.0007,  0.0008,  0.0023,\n",
       "          0.0018,  0.0008,  0.0007],\n",
       "        [ 0.0017,  0.0018,  0.0030,  0.0017,  0.0011,  0.0010,  0.0006,  0.0015,\n",
       "          0.0006,  0.0008,  0.0016,  0.0014,  0.0015,  0.0009, -0.0298,  0.0012,\n",
       "          0.0008,  0.0005,  0.0006,  0.0012,  0.0006,  0.0007,  0.0004,  0.0020,\n",
       "          0.0007,  0.0011,  0.0008],\n",
       "        [ 0.0006,  0.0007,  0.0004,  0.0004,  0.0007,  0.0013,  0.0018,  0.0020,\n",
       "          0.0019,  0.0010,  0.0006,  0.0010,  0.0014,  0.0015,  0.0007, -0.0305,\n",
       "          0.0004,  0.0011,  0.0009,  0.0035,  0.0021,  0.0012,  0.0013,  0.0012,\n",
       "          0.0012,  0.0006,  0.0009],\n",
       "        [ 0.0010,  0.0008,  0.0013,  0.0018,  0.0019,  0.0009,  0.0015,  0.0013,\n",
       "          0.0015,  0.0006,  0.0012,  0.0008,  0.0010,  0.0013,  0.0019,  0.0021,\n",
       "          0.0008,  0.0008,  0.0005,  0.0016,  0.0005,  0.0007, -0.0301,  0.0006,\n",
       "          0.0008,  0.0015,  0.0014],\n",
       "        [-0.0308,  0.0005,  0.0007,  0.0007,  0.0005,  0.0013,  0.0011,  0.0005,\n",
       "          0.0017,  0.0012,  0.0010,  0.0005,  0.0012,  0.0007,  0.0015,  0.0055,\n",
       "          0.0006,  0.0016,  0.0015,  0.0019,  0.0013,  0.0005,  0.0007,  0.0005,\n",
       "          0.0014,  0.0007,  0.0014],\n",
       "        [ 0.0011,  0.0011,  0.0017,  0.0021,  0.0021,  0.0008,  0.0009,  0.0017,\n",
       "          0.0008,  0.0005,  0.0014,  0.0005,  0.0008,  0.0014,  0.0021,  0.0015,\n",
       "          0.0005,  0.0006,  0.0003, -0.0303,  0.0009,  0.0009,  0.0013,  0.0005,\n",
       "          0.0005,  0.0026,  0.0014],\n",
       "        [ 0.0017,  0.0003,  0.0021,  0.0004,  0.0009,  0.0006,  0.0020,  0.0017,\n",
       "          0.0016, -0.0299,  0.0005,  0.0011,  0.0008,  0.0006,  0.0005,  0.0022,\n",
       "          0.0026,  0.0014,  0.0003,  0.0010,  0.0008,  0.0016,  0.0014,  0.0007,\n",
       "          0.0012,  0.0007,  0.0009],\n",
       "        [ 0.0014,  0.0010,  0.0007,  0.0038,  0.0008,  0.0017,  0.0009,  0.0026,\n",
       "          0.0012,  0.0003,  0.0009,  0.0004,  0.0006,  0.0017, -0.0307,  0.0004,\n",
       "          0.0004,  0.0004,  0.0005,  0.0028,  0.0011,  0.0016,  0.0008,  0.0011,\n",
       "          0.0007,  0.0018,  0.0011],\n",
       "        [ 0.0015,  0.0009,  0.0005,  0.0012,  0.0003, -0.0300,  0.0018,  0.0028,\n",
       "          0.0009,  0.0006,  0.0009,  0.0010,  0.0012,  0.0007,  0.0004,  0.0006,\n",
       "          0.0006,  0.0012,  0.0007,  0.0029,  0.0011,  0.0026,  0.0013,  0.0014,\n",
       "          0.0014,  0.0005,  0.0011],\n",
       "        [ 0.0008, -0.0308,  0.0009,  0.0005,  0.0010,  0.0012,  0.0010,  0.0009,\n",
       "          0.0030,  0.0019,  0.0004,  0.0011,  0.0012,  0.0013,  0.0007,  0.0009,\n",
       "          0.0020,  0.0015,  0.0013,  0.0008,  0.0022,  0.0008,  0.0020,  0.0006,\n",
       "          0.0010,  0.0011,  0.0006],\n",
       "        [ 0.0005,  0.0002,  0.0012,  0.0013,  0.0010,  0.0011,  0.0006,  0.0002,\n",
       "          0.0012,  0.0014,  0.0008,  0.0006,  0.0018,  0.0009,  0.0012,  0.0048,\n",
       "          0.0016,  0.0018,  0.0025,  0.0011, -0.0299,  0.0003,  0.0004,  0.0007,\n",
       "          0.0012,  0.0009,  0.0007],\n",
       "        [ 0.0007,  0.0009,  0.0007, -0.0250,  0.0003,  0.0018,  0.0022,  0.0014,\n",
       "          0.0013,  0.0009,  0.0004,  0.0006,  0.0007,  0.0008,  0.0002,  0.0002,\n",
       "          0.0006,  0.0011,  0.0005,  0.0018,  0.0016,  0.0012,  0.0006,  0.0011,\n",
       "          0.0015,  0.0014,  0.0005],\n",
       "        [ 0.0006,  0.0004,  0.0015,  0.0004,  0.0008,  0.0005,  0.0026,  0.0012,\n",
       "         -0.0294,  0.0016,  0.0005,  0.0012,  0.0012,  0.0009,  0.0004,  0.0013,\n",
       "          0.0024,  0.0014,  0.0013,  0.0007,  0.0015,  0.0012,  0.0030,  0.0003,\n",
       "          0.0007,  0.0008,  0.0009],\n",
       "        [ 0.0007,  0.0009,  0.0017,  0.0006,  0.0005,  0.0023,  0.0009,  0.0004,\n",
       "          0.0009,  0.0015,  0.0009,  0.0010,  0.0022,  0.0011, -0.0296,  0.0015,\n",
       "          0.0009,  0.0011,  0.0026,  0.0004,  0.0020,  0.0005,  0.0005,  0.0011,\n",
       "          0.0011,  0.0012,  0.0012],\n",
       "        [ 0.0014,  0.0008,  0.0009,  0.0017,  0.0005,  0.0011,  0.0010,  0.0019,\n",
       "          0.0017,  0.0016,  0.0010,  0.0014, -0.0297,  0.0012,  0.0008,  0.0007,\n",
       "          0.0007,  0.0017,  0.0009,  0.0016,  0.0017,  0.0016,  0.0008,  0.0011,\n",
       "          0.0007,  0.0006,  0.0007],\n",
       "        [-0.0299,  0.0019,  0.0010,  0.0005,  0.0006,  0.0027,  0.0009,  0.0007,\n",
       "          0.0009,  0.0017,  0.0011,  0.0015,  0.0019,  0.0005,  0.0009,  0.0005,\n",
       "          0.0013,  0.0006,  0.0018,  0.0005,  0.0012,  0.0008,  0.0010,  0.0021,\n",
       "          0.0018,  0.0009,  0.0006],\n",
       "        [ 0.0009,  0.0007,  0.0027,  0.0014,  0.0020,  0.0016,  0.0005,  0.0008,\n",
       "          0.0006,  0.0006,  0.0016, -0.0306,  0.0012,  0.0018,  0.0022,  0.0020,\n",
       "          0.0005,  0.0005,  0.0007,  0.0014,  0.0008,  0.0005,  0.0003,  0.0015,\n",
       "          0.0007,  0.0014,  0.0018],\n",
       "        [-0.0297,  0.0025,  0.0015,  0.0017,  0.0012,  0.0010,  0.0007,  0.0024,\n",
       "          0.0008,  0.0005,  0.0022,  0.0004,  0.0007,  0.0006,  0.0013,  0.0009,\n",
       "          0.0004,  0.0009,  0.0005,  0.0017,  0.0006,  0.0015,  0.0008,  0.0006,\n",
       "          0.0007,  0.0013,  0.0020],\n",
       "        [ 0.0006,  0.0004,  0.0015,  0.0004,  0.0008,  0.0005,  0.0026,  0.0012,\n",
       "          0.0019,  0.0016,  0.0005,  0.0012,  0.0012,  0.0009,  0.0004,  0.0013,\n",
       "          0.0024,  0.0014,  0.0013,  0.0007,  0.0015,  0.0012,  0.0030,  0.0003,\n",
       "          0.0007,  0.0008, -0.0304],\n",
       "        [ 0.0007,  0.0007,  0.0011,  0.0005,  0.0011,  0.0010,  0.0022,  0.0016,\n",
       "          0.0011, -0.0302,  0.0009,  0.0014,  0.0019,  0.0017,  0.0004,  0.0007,\n",
       "          0.0009,  0.0006,  0.0009,  0.0028,  0.0016,  0.0010,  0.0013,  0.0015,\n",
       "          0.0010,  0.0007,  0.0008],\n",
       "        [ 0.0017,  0.0004,  0.0005,  0.0013,  0.0010,  0.0012,  0.0009,  0.0012,\n",
       "          0.0017,  0.0007,  0.0021,  0.0011,  0.0019,  0.0007,  0.0014,  0.0024,\n",
       "          0.0005,  0.0007,  0.0012,  0.0017,  0.0006,  0.0009,  0.0007,  0.0008,\n",
       "          0.0012, -0.0294,  0.0012],\n",
       "        [-0.0296,  0.0023,  0.0016,  0.0015,  0.0008,  0.0019,  0.0009,  0.0014,\n",
       "          0.0007,  0.0005,  0.0016,  0.0008,  0.0007,  0.0010,  0.0013,  0.0014,\n",
       "          0.0006,  0.0011,  0.0006,  0.0029,  0.0004,  0.0010,  0.0004,  0.0009,\n",
       "          0.0011,  0.0009,  0.0011],\n",
       "        [ 0.0006, -0.0309,  0.0015,  0.0004,  0.0008,  0.0005,  0.0026,  0.0012,\n",
       "          0.0019,  0.0016,  0.0005,  0.0012,  0.0012,  0.0009,  0.0004,  0.0013,\n",
       "          0.0024,  0.0014,  0.0013,  0.0007,  0.0015,  0.0012,  0.0030,  0.0003,\n",
       "          0.0007,  0.0008,  0.0009],\n",
       "        [ 0.0015, -0.0307,  0.0008,  0.0004,  0.0018,  0.0008,  0.0021,  0.0010,\n",
       "          0.0008,  0.0013,  0.0010,  0.0012,  0.0011,  0.0010,  0.0012,  0.0015,\n",
       "          0.0024,  0.0007,  0.0011,  0.0005,  0.0005,  0.0007,  0.0037,  0.0006,\n",
       "          0.0018,  0.0010,  0.0005],\n",
       "        [ 0.0010,  0.0025,  0.0007,  0.0015,  0.0008,  0.0020,  0.0007, -0.0303,\n",
       "          0.0008,  0.0009,  0.0032,  0.0005,  0.0009,  0.0004,  0.0012,  0.0006,\n",
       "          0.0005,  0.0004,  0.0004,  0.0008,  0.0004,  0.0007,  0.0003,  0.0051,\n",
       "          0.0016,  0.0008,  0.0016],\n",
       "        [ 0.0021,  0.0008,  0.0004,  0.0006,  0.0010,  0.0026,  0.0012,  0.0010,\n",
       "          0.0008,  0.0011,  0.0010,  0.0017,  0.0017,  0.0010,  0.0006,  0.0004,\n",
       "          0.0010,  0.0006, -0.0294,  0.0004,  0.0008,  0.0006,  0.0022,  0.0017,\n",
       "          0.0022,  0.0013,  0.0003],\n",
       "        [ 0.0013,  0.0007,  0.0006,  0.0003,  0.0015,  0.0007,  0.0028,  0.0012,\n",
       "          0.0009, -0.0296,  0.0005,  0.0015,  0.0019,  0.0010,  0.0008,  0.0005,\n",
       "          0.0018,  0.0008,  0.0009,  0.0010,  0.0007,  0.0011,  0.0042,  0.0006,\n",
       "          0.0012,  0.0008,  0.0003],\n",
       "        [ 0.0008,  0.0009,  0.0015, -0.0306,  0.0011,  0.0007,  0.0012,  0.0009,\n",
       "          0.0012,  0.0017,  0.0006,  0.0009,  0.0012,  0.0011,  0.0014,  0.0020,\n",
       "          0.0015,  0.0015,  0.0016,  0.0005,  0.0031,  0.0005,  0.0014,  0.0003,\n",
       "          0.0005,  0.0011,  0.0015],\n",
       "        [ 0.0019,  0.0012,  0.0005,  0.0006,  0.0010, -0.0293,  0.0014,  0.0012,\n",
       "          0.0003,  0.0008,  0.0013,  0.0009,  0.0008,  0.0006,  0.0008,  0.0010,\n",
       "          0.0024,  0.0008,  0.0020,  0.0008,  0.0010,  0.0010,  0.0014,  0.0019,\n",
       "          0.0026,  0.0004,  0.0006],\n",
       "        [ 0.0006,  0.0005,  0.0010,  0.0010,  0.0016,  0.0007,  0.0022,  0.0010,\n",
       "          0.0023, -0.0303,  0.0009,  0.0011,  0.0009,  0.0012,  0.0010,  0.0021,\n",
       "          0.0009,  0.0008,  0.0012,  0.0009,  0.0013,  0.0008,  0.0018,  0.0004,\n",
       "          0.0010,  0.0017,  0.0012],\n",
       "        [-0.0301,  0.0016,  0.0008,  0.0020,  0.0014,  0.0016,  0.0011,  0.0010,\n",
       "          0.0008,  0.0006,  0.0011,  0.0007,  0.0005,  0.0008,  0.0003,  0.0010,\n",
       "          0.0011,  0.0009,  0.0014,  0.0017,  0.0017,  0.0009,  0.0006,  0.0023,\n",
       "          0.0027,  0.0006,  0.0008],\n",
       "        [ 0.0014,  0.0007,  0.0021,  0.0006,  0.0024,  0.0009,  0.0005,  0.0007,\n",
       "          0.0005,  0.0018,  0.0009,  0.0009,  0.0010,  0.0026,  0.0013,  0.0012,\n",
       "          0.0016,  0.0013, -0.0299,  0.0004,  0.0017,  0.0003,  0.0020,  0.0007,\n",
       "          0.0006,  0.0012,  0.0006]])"
      ]
     },
     "execution_count": 18,
     "metadata": {},
     "output_type": "execute_result"
    }
   ],
   "source": [
    "dlogits.detach()"
   ]
  },
  {
   "cell_type": "code",
   "execution_count": 20,
   "id": "9ec7d6b1",
   "metadata": {},
   "outputs": [
    {
     "data": {
      "text/plain": [
       "<matplotlib.image.AxesImage at 0x25b3e5f2be0>"
      ]
     },
     "execution_count": 20,
     "metadata": {},
     "output_type": "execute_result"
    },
    {
     "data": {
      "image/png": "[encoded data removed]",
      "text/plain": [
       "<Figure size 800x800 with 1 Axes>"
      ]
     },
     "metadata": {},
     "output_type": "display_data"
    }
   ],
   "source": [
    "plt.figure(figsize = (8,8))\n",
    "plt.imshow(dlogits.detach(), cmap='gray')"
   ]
  },
  {
   "cell_type": "code",
   "execution_count": 22,
   "id": "e3cfad9a",
   "metadata": {},
   "outputs": [
    {
     "name": "stdout",
     "output_type": "stream",
     "text": [
      "max diff: tensor(7.1526e-07, grad_fn=<MaxBackward1>)\n"
     ]
    }
   ],
   "source": [
    "# Exercise 3: backprop through batchnorm but all in one go\n",
    "# to complete this challenge look at the mathematical expression of the output of batchnorm,\n",
    "# take the derivative w.r.t. its input, simplify the expression, and just write it out\n",
    "# BatchNorm paper: https://arxiv.org/abs/1502.03167\n",
    "\n",
    "# forward pass\n",
    "\n",
    "# before:\n",
    "# bnmeani = 1/n*hprebn.sum(0, keepdim=True)\n",
    "# bndiff = hprebn - bnmeani\n",
    "# bndiff2 = bndiff**2\n",
    "# bnvar = 1/(n-1)*(bndiff2).sum(0, keepdim=True) # note: Bessel's correction (dividing by n-1, not n)\n",
    "# bnvar_inv = (bnvar + 1e-5)**-0.5\n",
    "# bnraw = bndiff * bnvar_inv\n",
    "# hpreact = bngain * bnraw + bnbias\n",
    "\n",
    "# now:\n",
    "hpreact_fast = bngain * (hprebn - hprebn.mean(0, keepdim=True)) / torch.sqrt(hprebn.var(0, keepdim=True, unbiased=True) + 1e-5) + bnbias\n",
    "print('max diff:', (hpreact_fast - hpreact).abs().max())"
   ]
  },
  {
   "cell_type": "code",
   "execution_count": 24,
   "id": "b5e01faf",
   "metadata": {},
   "outputs": [
    {
     "name": "stdout",
     "output_type": "stream",
     "text": [
      "hprebn          | exact: False | approximate: True  | maxdiff: 9.313225746154785e-10\n"
     ]
    }
   ],
   "source": [
    "# backward pass\n",
    "\n",
    "# before we had:\n",
    "# dbnraw = bngain * dhpreact\n",
    "# dbndiff = bnvar_inv * dbnraw\n",
    "# dbnvar_inv = (bndiff * dbnraw).sum(0, keepdim=True)\n",
    "# dbnvar = (-0.5*(bnvar + 1e-5)**-1.5) * dbnvar_inv\n",
    "# dbndiff2 = (1.0/(n-1))*torch.ones_like(bndiff2) * dbnvar\n",
    "# dbndiff += (2*bndiff) * dbndiff2\n",
    "# dhprebn = dbndiff.clone()\n",
    "# dbnmeani = (-dbndiff).sum(0)\n",
    "# dhprebn += 1.0/n * (torch.ones_like(hprebn) * dbnmeani)\n",
    "\n",
    "# calculate dhprebn given dhpreact (i.e. backprop through the batchnorm)\n",
    "# (you'll also need to use some of the variables from the forward pass up above)\n",
    "\n",
    "# -----------------\n",
    "# YOUR CODE HERE :)\n",
    "dhprebn = bngain*bnvar_inv/n * (n*dhpreact - dhpreact.sum(0) - n/(n-1)*bnraw*(dhpreact*bnraw).sum(0))# TODO. my solution is 1 (long) line\n",
    "# -----------------\n",
    "\n",
    "cmp('hprebn', dhprebn, hprebn) # I can only get approximate to be true, my maxdiff is 9e-10"
   ]
  },
  {
   "cell_type": "code",
   "execution_count": 55,
   "id": "5d118fbb",
   "metadata": {},
   "outputs": [
    {
     "name": "stdout",
     "output_type": "stream",
     "text": [
      "12297\n",
      "      0/ 200000: 3.8403\n",
      "  10000/ 200000: 2.1903\n",
      "  20000/ 200000: 2.3776\n",
      "  30000/ 200000: 2.4502\n",
      "  40000/ 200000: 1.9811\n",
      "  50000/ 200000: 2.3327\n",
      "  60000/ 200000: 2.4104\n",
      "  70000/ 200000: 2.0347\n",
      "  80000/ 200000: 2.3335\n",
      "  90000/ 200000: 2.2538\n",
      " 100000/ 200000: 1.9874\n",
      " 110000/ 200000: 2.3049\n",
      " 120000/ 200000: 2.0189\n",
      " 130000/ 200000: 2.4052\n",
      " 140000/ 200000: 2.2585\n",
      " 150000/ 200000: 2.1679\n",
      " 160000/ 200000: 1.8917\n",
      " 170000/ 200000: 1.8108\n",
      " 180000/ 200000: 2.0148\n",
      " 190000/ 200000: 1.8618\n"
     ]
    }
   ],
   "source": [
    "# Exercise 4: putting it all together!\n",
    "# Train the MLP neural net with your own backward pass\n",
    "\n",
    "# init\n",
    "n_embd = 10 # the dimensionality of the character embedding vectors\n",
    "n_hidden = 200 # the number of neurons in the hidden layer of the MLP\n",
    "\n",
    "g = torch.Generator().manual_seed(2147483647) # for reproducibility\n",
    "C  = torch.randn((vocab_size, n_embd),            generator=g)\n",
    "# Layer 1\n",
    "W1 = torch.randn((n_embd * block_size, n_hidden), generator=g) * (5/3)/((n_embd * block_size)**0.5)\n",
    "b1 = torch.randn(n_hidden,                        generator=g) * 0.1\n",
    "# Layer 2\n",
    "W2 = torch.randn((n_hidden, vocab_size),          generator=g) * 0.1\n",
    "b2 = torch.randn(vocab_size,                      generator=g) * 0.1\n",
    "# BatchNorm parameters\n",
    "bngain = torch.randn((1, n_hidden))*0.1 + 1.0\n",
    "bnbias = torch.randn((1, n_hidden))*0.1\n",
    "\n",
    "parameters = [C, W1, b1, W2, b2, bngain, bnbias]\n",
    "print(sum(p.nelement() for p in parameters)) # number of parameters in total\n",
    "for p in parameters:\n",
    "  p.requires_grad = True\n",
    "\n",
    "# same optimization as last time\n",
    "max_steps = 200000\n",
    "batch_size = 32\n",
    "n = batch_size # convenience\n",
    "lossi = []\n",
    "\n",
    "# use this context manager for efficiency once your backward pass is written (TODO)\n",
    "#with torch.no_grad():\n",
    "\n",
    "# kick off optimization\n",
    "for i in range(max_steps):\n",
    "\n",
    "    # minibatch construct\n",
    "    ix = torch.randint(0, Xtr.shape[0], (batch_size,), generator=g)\n",
    "    Xb, Yb = Xtr[ix], Ytr[ix] # batch X,Y\n",
    "\n",
    "    # forward pass\n",
    "    emb = C[Xb] # embed the characters into vectors\n",
    "    embcat = emb.view(emb.shape[0], -1) # concatenate the vectors\n",
    "    # Linear layer\n",
    "    hprebn = embcat @ W1 + b1 # hidden layer pre-activation\n",
    "    # BatchNorm layer\n",
    "    # -------------------------------------------------------------\n",
    "    bnmean = hprebn.mean(0, keepdim=True)\n",
    "    bnvar = hprebn.var(0, keepdim=True, unbiased=True)\n",
    "    bnvar_inv = (bnvar + 1e-5)**-0.5\n",
    "    bnraw = (hprebn - bnmean) * bnvar_inv\n",
    "    hpreact = bngain * bnraw + bnbias\n",
    "    # -------------------------------------------------------------\n",
    "    # Non-linearity\n",
    "    h = torch.tanh(hpreact) # hidden layer\n",
    "    logits = h @ W2 + b2 # output layer\n",
    "    loss = F.cross_entropy(logits, Yb) # loss function\n",
    "\n",
    "    # backward pass\n",
    "    for p in parameters:\n",
    "        p.grad = None\n",
    "        \n",
    "    #loss.backward() # use this for correctness comparisons, delete it later!\n",
    "\n",
    "    # manual backprop! #swole_doge_meme\n",
    "    # -----------------\n",
    "    # YOUR CODE HERE :)\n",
    "    dlogits = F.softmax(logits, 1)\n",
    "    dlogits[range(n), Yb] -=1\n",
    "    dlogits = dlogits/n\n",
    "    dh = dlogits @ W2.T # logits = h @ W2 + b2 # Trick: As you know which you need to multiply to get the result. Write down dims and try to obtain the dim equal to respective variable that you want a derivative of\n",
    "    dW2 = h.T @ dlogits\n",
    "    db2 = dlogits.sum(0)\n",
    "    dhpreact = (1.0 - h**2) * dh\n",
    "    dbngain = (bnraw * dhpreact).sum(0, keepdim=True)\n",
    "    dbnbias = dhpreact.sum(0, keepdim=True)\n",
    "    dhprebn = bngain*bnvar_inv/n * (n*dhpreact - dhpreact.sum(0) - n/(n-1)*bnraw*(dhpreact*bnraw).sum(0))\n",
    "    dembcat = dhprebn @ W1.T\n",
    "    dW1 = embcat.T @ dhprebn\n",
    "    db1 = dhprebn.sum(0)\n",
    "    demb = dembcat.view(emb.shape)\n",
    "\n",
    "    dC = torch.zeros_like(C)\n",
    "    for k in range(Xb.shape[0]):\n",
    "        for j in range(Xb.shape[1]):\n",
    "            ix = Xb[k,j]\n",
    "            dC[ix] += demb[k,j]\n",
    "    grads = [dC, dW1, db1, dW2, db2, dbngain, dbnbias]\n",
    "    # -----------------\n",
    "\n",
    "    # update\n",
    "    lr = 0.1 if i < 100000 else 0.01 # step learning rate decay\n",
    "    for p, grad in zip(parameters, grads):\n",
    "        p.data += -lr * grad \n",
    "        #p.data += -lr * p.grad # old way of cheems doge (using PyTorch grad from .backward())\n",
    "    #p.data += -lr * grad # new way of swole doge TODO: enable\n",
    "\n",
    "    # track stats\n",
    "    if i % 10000 == 0: # print every once in a while\n",
    "        print(f'{i:7d}/{max_steps:7d}: {loss.item():.4f}')\n",
    "        lossi.append(loss.log10().item())"
   ]
  },
  {
   "cell_type": "code",
   "execution_count": 56,
   "id": "20ea2c68",
   "metadata": {},
   "outputs": [],
   "source": [
    "#for p,g in zip(parameters, grads):\n",
    "#    param_name = str(tuple(p.shape))\n",
    "#    cmp(param_name, g, p)"
   ]
  },
  {
   "cell_type": "code",
   "execution_count": 57,
   "id": "36170070",
   "metadata": {},
   "outputs": [],
   "source": [
    "# calibrate the batch norm at the end of training\n",
    "\n",
    "with torch.no_grad():\n",
    "  # pass the training set through\n",
    "  emb = C[Xtr]\n",
    "  embcat = emb.view(emb.shape[0], -1)\n",
    "  hpreact = embcat @ W1 + b1\n",
    "  # measure the mean/std over the entire training set\n",
    "  bnmean = hpreact.mean(0, keepdim=True)\n",
    "  bnvar = hpreact.var(0, keepdim=True, unbiased=True)"
   ]
  },
  {
   "cell_type": "code",
   "execution_count": 58,
   "id": "aa7d6ed2",
   "metadata": {},
   "outputs": [
    {
     "ename": "NameError",
     "evalue": "name 'Xte' is not defined",
     "output_type": "error",
     "traceback": [
      "\u001b[1;31m---------------------------------------------------------------------------\u001b[0m",
      "\u001b[1;31mNameError\u001b[0m                                 Traceback (most recent call last)",
      "\u001b[1;32m~\\AppData\\Local\\Temp\\ipykernel_3232\\1183289796.py\u001b[0m in \u001b[0;36m<module>\u001b[1;34m\u001b[0m\n\u001b[0;32m     21\u001b[0m   \u001b[0mprint\u001b[0m\u001b[1;33m(\u001b[0m\u001b[0msplit\u001b[0m\u001b[1;33m,\u001b[0m \u001b[0mloss\u001b[0m\u001b[1;33m.\u001b[0m\u001b[0mitem\u001b[0m\u001b[1;33m(\u001b[0m\u001b[1;33m)\u001b[0m\u001b[1;33m)\u001b[0m\u001b[1;33m\u001b[0m\u001b[1;33m\u001b[0m\u001b[0m\n\u001b[0;32m     22\u001b[0m \u001b[1;33m\u001b[0m\u001b[0m\n\u001b[1;32m---> 23\u001b[1;33m \u001b[0msplit_loss\u001b[0m\u001b[1;33m(\u001b[0m\u001b[1;34m'train'\u001b[0m\u001b[1;33m)\u001b[0m\u001b[1;33m\u001b[0m\u001b[1;33m\u001b[0m\u001b[0m\n\u001b[0m\u001b[0;32m     24\u001b[0m \u001b[0msplit_loss\u001b[0m\u001b[1;33m(\u001b[0m\u001b[1;34m'val'\u001b[0m\u001b[1;33m)\u001b[0m\u001b[1;33m\u001b[0m\u001b[1;33m\u001b[0m\u001b[0m\n",
      "\u001b[1;32m~\\anaconda3\\lib\\site-packages\\torch\\autograd\\grad_mode.py\u001b[0m in \u001b[0;36mdecorate_context\u001b[1;34m(*args, **kwargs)\u001b[0m\n\u001b[0;32m     26\u001b[0m         \u001b[1;32mdef\u001b[0m \u001b[0mdecorate_context\u001b[0m\u001b[1;33m(\u001b[0m\u001b[1;33m*\u001b[0m\u001b[0margs\u001b[0m\u001b[1;33m,\u001b[0m \u001b[1;33m**\u001b[0m\u001b[0mkwargs\u001b[0m\u001b[1;33m)\u001b[0m\u001b[1;33m:\u001b[0m\u001b[1;33m\u001b[0m\u001b[1;33m\u001b[0m\u001b[0m\n\u001b[0;32m     27\u001b[0m             \u001b[1;32mwith\u001b[0m \u001b[0mself\u001b[0m\u001b[1;33m.\u001b[0m\u001b[0m__class__\u001b[0m\u001b[1;33m(\u001b[0m\u001b[1;33m)\u001b[0m\u001b[1;33m:\u001b[0m\u001b[1;33m\u001b[0m\u001b[1;33m\u001b[0m\u001b[0m\n\u001b[1;32m---> 28\u001b[1;33m                 \u001b[1;32mreturn\u001b[0m \u001b[0mfunc\u001b[0m\u001b[1;33m(\u001b[0m\u001b[1;33m*\u001b[0m\u001b[0margs\u001b[0m\u001b[1;33m,\u001b[0m \u001b[1;33m**\u001b[0m\u001b[0mkwargs\u001b[0m\u001b[1;33m)\u001b[0m\u001b[1;33m\u001b[0m\u001b[1;33m\u001b[0m\u001b[0m\n\u001b[0m\u001b[0;32m     29\u001b[0m         \u001b[1;32mreturn\u001b[0m \u001b[0mcast\u001b[0m\u001b[1;33m(\u001b[0m\u001b[0mF\u001b[0m\u001b[1;33m,\u001b[0m \u001b[0mdecorate_context\u001b[0m\u001b[1;33m)\u001b[0m\u001b[1;33m\u001b[0m\u001b[1;33m\u001b[0m\u001b[0m\n\u001b[0;32m     30\u001b[0m \u001b[1;33m\u001b[0m\u001b[0m\n",
      "\u001b[1;32m~\\AppData\\Local\\Temp\\ipykernel_3232\\1183289796.py\u001b[0m in \u001b[0;36msplit_loss\u001b[1;34m(split)\u001b[0m\n\u001b[0;32m     10\u001b[0m     \u001b[1;34m'train'\u001b[0m\u001b[1;33m:\u001b[0m \u001b[1;33m(\u001b[0m\u001b[0mXtr\u001b[0m\u001b[1;33m,\u001b[0m \u001b[0mYtr\u001b[0m\u001b[1;33m)\u001b[0m\u001b[1;33m,\u001b[0m\u001b[1;33m\u001b[0m\u001b[1;33m\u001b[0m\u001b[0m\n\u001b[0;32m     11\u001b[0m     \u001b[1;34m'val'\u001b[0m\u001b[1;33m:\u001b[0m \u001b[1;33m(\u001b[0m\u001b[0mXdev\u001b[0m\u001b[1;33m,\u001b[0m \u001b[0mYdev\u001b[0m\u001b[1;33m)\u001b[0m\u001b[1;33m,\u001b[0m\u001b[1;33m\u001b[0m\u001b[1;33m\u001b[0m\u001b[0m\n\u001b[1;32m---> 12\u001b[1;33m     \u001b[1;34m'test'\u001b[0m\u001b[1;33m:\u001b[0m \u001b[1;33m(\u001b[0m\u001b[0mXte\u001b[0m\u001b[1;33m,\u001b[0m \u001b[0mYte\u001b[0m\u001b[1;33m)\u001b[0m\u001b[1;33m,\u001b[0m\u001b[1;33m\u001b[0m\u001b[1;33m\u001b[0m\u001b[0m\n\u001b[0m\u001b[0;32m     13\u001b[0m   }[split]\n\u001b[0;32m     14\u001b[0m   \u001b[0memb\u001b[0m \u001b[1;33m=\u001b[0m \u001b[0mC\u001b[0m\u001b[1;33m[\u001b[0m\u001b[0mx\u001b[0m\u001b[1;33m]\u001b[0m \u001b[1;31m# (N, block_size, n_embd)\u001b[0m\u001b[1;33m\u001b[0m\u001b[1;33m\u001b[0m\u001b[0m\n",
      "\u001b[1;31mNameError\u001b[0m: name 'Xte' is not defined"
     ]
    }
   ],
   "source": [
    "# Andrej Model Scores\n",
    "# train 2.0718822479248047\n",
    "# val 2.1162495613098145\n",
    "\n",
    "# evaluate train and val loss\n",
    "\n",
    "@torch.no_grad() # this decorator disables gradient tracking\n",
    "def split_loss(split):\n",
    "  x,y = {\n",
    "    'train': (Xtr, Ytr),\n",
    "    'val': (Xdev, Ydev),\n",
    "    'test': (Xte, Yte),\n",
    "  }[split]\n",
    "  emb = C[x] # (N, block_size, n_embd)\n",
    "  embcat = emb.view(emb.shape[0], -1) # concat into (N, block_size * n_embd)\n",
    "  hpreact = embcat @ W1 + b1\n",
    "  hpreact = bngain * (hpreact - bnmean) * (bnvar + 1e-5)**-0.5 + bnbias\n",
    "  h = torch.tanh(hpreact) # (N, n_hidden)\n",
    "  logits = h @ W2 + b2 # (N, vocab_size)\n",
    "  loss = F.cross_entropy(logits, y)\n",
    "  print(split, loss.item())\n",
    "\n",
    "split_loss('train')\n",
    "split_loss('val')"
   ]
  },
  {
   "cell_type": "code",
   "execution_count": null,
   "id": "d868c284",
   "metadata": {},
   "outputs": [],
   "source": []
  }
 ],
 "metadata": {
  "kernelspec": {
   "display_name": "Python 3 (ipykernel)",
   "language": "python",
   "name": "python3"
  },
  "language_info": {
   "codemirror_mode": {
    "name": "ipython",
    "version": 3
   },
   "file_extension": ".py",
   "mimetype": "text/x-python",
   "name": "python",
   "nbconvert_exporter": "python",
   "pygments_lexer": "ipython3",
   "version": "3.9.13"
  }
 },
 "nbformat": 4,
 "nbformat_minor": 5
}
